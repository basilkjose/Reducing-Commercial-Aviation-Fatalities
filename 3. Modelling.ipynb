{
 "cells": [
  {
   "cell_type": "markdown",
   "metadata": {},
   "source": [
    "## Importing the libraries"
   ]
  },
  {
   "cell_type": "code",
   "execution_count": 1,
   "metadata": {},
   "outputs": [],
   "source": [
    "import pandas as pd\n",
    "import numpy as np\n",
    "import sklearn\n",
    "from sklearn.model_selection import train_test_split\n",
    "from sklearn.metrics import log_loss\n",
    "from sklearn.model_selection import RandomizedSearchCV\n",
    "from sklearn.preprocessing import StandardScaler\n",
    "import tqdm\n",
    "from tqdm import tqdm\n",
    "import warnings\n",
    "warnings. filterwarnings(\"ignore\") \n",
    "import joblib\n",
    "from sklearn.metrics import confusion_matrix\n",
    "from sklearn.linear_model import LogisticRegression\n",
    "import lightgbm as lgb\n",
    "from sklearn.externals import joblib \n",
    "import matplotlib.pyplot as plt"
   ]
  },
  {
   "cell_type": "code",
   "execution_count": 2,
   "metadata": {},
   "outputs": [
    {
     "name": "stdout",
     "output_type": "stream",
     "text": [
      "Requirement already satisfied: lightgbm in /opt/conda/lib/python3.7/site-packages (3.1.1)\n",
      "Requirement already satisfied: scikit-learn!=0.22.0 in /opt/conda/lib/python3.7/site-packages (from lightgbm) (0.23.2)\n",
      "Requirement already satisfied: numpy in /opt/conda/lib/python3.7/site-packages (from lightgbm) (1.19.4)\n",
      "Requirement already satisfied: scipy in /opt/conda/lib/python3.7/site-packages (from lightgbm) (1.5.3)\n",
      "Requirement already satisfied: wheel in /opt/conda/lib/python3.7/site-packages (from lightgbm) (0.35.1)\n",
      "Requirement already satisfied: threadpoolctl>=2.0.0 in /opt/conda/lib/python3.7/site-packages (from scikit-learn!=0.22.0->lightgbm) (2.1.0)\n",
      "Requirement already satisfied: joblib>=0.11 in /opt/conda/lib/python3.7/site-packages (from scikit-learn!=0.22.0->lightgbm) (0.17.0)\n"
     ]
    }
   ],
   "source": [
    "!pip install lightgbm"
   ]
  },
  {
   "cell_type": "markdown",
   "metadata": {},
   "source": [
    "### Reading data after the feature engineering"
   ]
  },
  {
   "cell_type": "code",
   "execution_count": 4,
   "metadata": {},
   "outputs": [],
   "source": [
    "#reading train_data after the feature engineering\n",
    "train_data=pd.read_csv(\"pilot_train_after_fe\")"
   ]
  },
  {
   "cell_type": "code",
   "execution_count": 6,
   "metadata": {},
   "outputs": [
    {
     "data": {
      "text/html": [
       "<div>\n",
       "<style scoped>\n",
       "    .dataframe tbody tr th:only-of-type {\n",
       "        vertical-align: middle;\n",
       "    }\n",
       "\n",
       "    .dataframe tbody tr th {\n",
       "        vertical-align: top;\n",
       "    }\n",
       "\n",
       "    .dataframe thead th {\n",
       "        text-align: right;\n",
       "    }\n",
       "</style>\n",
       "<table border=\"1\" class=\"dataframe\">\n",
       "  <thead>\n",
       "    <tr style=\"text-align: right;\">\n",
       "      <th></th>\n",
       "      <th>Unnamed: 0</th>\n",
       "      <th>crew</th>\n",
       "      <th>time</th>\n",
       "      <th>eeg_fp1</th>\n",
       "      <th>eeg_f7</th>\n",
       "      <th>eeg_f8</th>\n",
       "      <th>eeg_t4</th>\n",
       "      <th>eeg_t6</th>\n",
       "      <th>eeg_t5</th>\n",
       "      <th>eeg_t3</th>\n",
       "      <th>...</th>\n",
       "      <th>eeg_f3_alpha_high</th>\n",
       "      <th>eeg_fz_alpha_high</th>\n",
       "      <th>eeg_f4_alpha_high</th>\n",
       "      <th>eeg_c4_alpha_high</th>\n",
       "      <th>eeg_p4_alpha_high</th>\n",
       "      <th>eeg_poz_alpha_high</th>\n",
       "      <th>eeg_c3_alpha_high</th>\n",
       "      <th>eeg_cz_alpha_high</th>\n",
       "      <th>eeg_o2_alpha_high</th>\n",
       "      <th>e</th>\n",
       "    </tr>\n",
       "  </thead>\n",
       "  <tbody>\n",
       "    <tr>\n",
       "      <th>0</th>\n",
       "      <td>0</td>\n",
       "      <td>1</td>\n",
       "      <td>0.011719</td>\n",
       "      <td>-5.28545</td>\n",
       "      <td>26.775801</td>\n",
       "      <td>-9.52731</td>\n",
       "      <td>-12.793200</td>\n",
       "      <td>16.717800</td>\n",
       "      <td>33.737499</td>\n",
       "      <td>23.712299</td>\n",
       "      <td>...</td>\n",
       "      <td>0.006548</td>\n",
       "      <td>0.001229</td>\n",
       "      <td>0.003105</td>\n",
       "      <td>0.004400</td>\n",
       "      <td>0.002121</td>\n",
       "      <td>0.001555</td>\n",
       "      <td>0.005902</td>\n",
       "      <td>0.002539</td>\n",
       "      <td>0.002471</td>\n",
       "      <td>0</td>\n",
       "    </tr>\n",
       "    <tr>\n",
       "      <th>1</th>\n",
       "      <td>1</td>\n",
       "      <td>1</td>\n",
       "      <td>0.015625</td>\n",
       "      <td>-2.42842</td>\n",
       "      <td>28.430901</td>\n",
       "      <td>-9.32351</td>\n",
       "      <td>-3.757230</td>\n",
       "      <td>15.969300</td>\n",
       "      <td>30.443600</td>\n",
       "      <td>21.010300</td>\n",
       "      <td>...</td>\n",
       "      <td>0.006550</td>\n",
       "      <td>0.001437</td>\n",
       "      <td>0.003462</td>\n",
       "      <td>0.004586</td>\n",
       "      <td>0.002136</td>\n",
       "      <td>0.001555</td>\n",
       "      <td>0.005902</td>\n",
       "      <td>0.002572</td>\n",
       "      <td>0.002471</td>\n",
       "      <td>0</td>\n",
       "    </tr>\n",
       "    <tr>\n",
       "      <th>2</th>\n",
       "      <td>2</td>\n",
       "      <td>1</td>\n",
       "      <td>0.019531</td>\n",
       "      <td>10.67150</td>\n",
       "      <td>30.420200</td>\n",
       "      <td>15.35070</td>\n",
       "      <td>24.724001</td>\n",
       "      <td>16.143101</td>\n",
       "      <td>32.142799</td>\n",
       "      <td>25.431801</td>\n",
       "      <td>...</td>\n",
       "      <td>0.006552</td>\n",
       "      <td>0.001646</td>\n",
       "      <td>0.003818</td>\n",
       "      <td>0.004771</td>\n",
       "      <td>0.002151</td>\n",
       "      <td>0.001555</td>\n",
       "      <td>0.005902</td>\n",
       "      <td>0.002605</td>\n",
       "      <td>0.002471</td>\n",
       "      <td>0</td>\n",
       "    </tr>\n",
       "  </tbody>\n",
       "</table>\n",
       "<p>3 rows × 107 columns</p>\n",
       "</div>"
      ],
      "text/plain": [
       "   Unnamed: 0  crew      time   eeg_fp1     eeg_f7    eeg_f8     eeg_t4  \\\n",
       "0           0     1  0.011719  -5.28545  26.775801  -9.52731 -12.793200   \n",
       "1           1     1  0.015625  -2.42842  28.430901  -9.32351  -3.757230   \n",
       "2           2     1  0.019531  10.67150  30.420200  15.35070  24.724001   \n",
       "\n",
       "      eeg_t6     eeg_t5     eeg_t3  ...  eeg_f3_alpha_high  eeg_fz_alpha_high  \\\n",
       "0  16.717800  33.737499  23.712299  ...           0.006548           0.001229   \n",
       "1  15.969300  30.443600  21.010300  ...           0.006550           0.001437   \n",
       "2  16.143101  32.142799  25.431801  ...           0.006552           0.001646   \n",
       "\n",
       "   eeg_f4_alpha_high  eeg_c4_alpha_high  eeg_p4_alpha_high  \\\n",
       "0           0.003105           0.004400           0.002121   \n",
       "1           0.003462           0.004586           0.002136   \n",
       "2           0.003818           0.004771           0.002151   \n",
       "\n",
       "   eeg_poz_alpha_high  eeg_c3_alpha_high  eeg_cz_alpha_high  \\\n",
       "0            0.001555           0.005902           0.002539   \n",
       "1            0.001555           0.005902           0.002572   \n",
       "2            0.001555           0.005902           0.002605   \n",
       "\n",
       "   eeg_o2_alpha_high  e  \n",
       "0           0.002471  0  \n",
       "1           0.002471  0  \n",
       "2           0.002471  0  \n",
       "\n",
       "[3 rows x 107 columns]"
      ]
     },
     "execution_count": 6,
     "metadata": {},
     "output_type": "execute_result"
    }
   ],
   "source": [
    "train_data.head(3)"
   ]
  },
  {
   "cell_type": "code",
   "execution_count": 7,
   "metadata": {},
   "outputs": [
    {
     "data": {
      "text/plain": [
       "Index(['Unnamed: 0', 'crew', 'time', 'eeg_fp1', 'eeg_f7', 'eeg_f8', 'eeg_t4',\n",
       "       'eeg_t6', 'eeg_t5', 'eeg_t3',\n",
       "       ...\n",
       "       'eeg_f3_alpha_high', 'eeg_fz_alpha_high', 'eeg_f4_alpha_high',\n",
       "       'eeg_c4_alpha_high', 'eeg_p4_alpha_high', 'eeg_poz_alpha_high',\n",
       "       'eeg_c3_alpha_high', 'eeg_cz_alpha_high', 'eeg_o2_alpha_high', 'e'],\n",
       "      dtype='object', length=107)"
      ]
     },
     "execution_count": 7,
     "metadata": {},
     "output_type": "execute_result"
    }
   ],
   "source": [
    "train_data.columns"
   ]
  },
  {
   "cell_type": "code",
   "execution_count": 8,
   "metadata": {},
   "outputs": [],
   "source": [
    "#seperating into 'X','Y' dataframes\n",
    "X=train_data.drop([\"e\",\"Unnamed: 0\"],axis=1)\n",
    "Y=train_data[\"e\"]"
   ]
  },
  {
   "cell_type": "code",
   "execution_count": 9,
   "metadata": {},
   "outputs": [
    {
     "name": "stdout",
     "output_type": "stream",
     "text": [
      "Total Number of Datapoints in Train_Data = 4867421\n",
      "\n",
      "\n",
      "Features in  the dataframe =\n",
      " Index(['crew', 'time', 'eeg_fp1', 'eeg_f7', 'eeg_f8', 'eeg_t4', 'eeg_t6',\n",
      "       'eeg_t5', 'eeg_t3', 'eeg_fp2',\n",
      "       ...\n",
      "       'eeg_pz_alpha_high', 'eeg_f3_alpha_high', 'eeg_fz_alpha_high',\n",
      "       'eeg_f4_alpha_high', 'eeg_c4_alpha_high', 'eeg_p4_alpha_high',\n",
      "       'eeg_poz_alpha_high', 'eeg_c3_alpha_high', 'eeg_cz_alpha_high',\n",
      "       'eeg_o2_alpha_high'],\n",
      "      dtype='object', length=105)\n",
      "\n",
      "\n",
      "Total number of featues = 105\n"
     ]
    }
   ],
   "source": [
    "print(\"Total Number of Datapoints in Train_Data =\",len(Y))\n",
    "print('\\n')\n",
    "print(\"Features in  the dataframe =\\n\",X.columns)\n",
    "print('\\n')\n",
    "print('Total number of featues =',len(X.columns))"
   ]
  },
  {
   "cell_type": "markdown",
   "metadata": {},
   "source": [
    "## Splitting dataframe into train_data and test _data."
   ]
  },
  {
   "cell_type": "code",
   "execution_count": 10,
   "metadata": {},
   "outputs": [
    {
     "name": "stdout",
     "output_type": "stream",
     "text": [
      "X_train----> (3650565, 105)\n",
      "y_train----> (3650565,)\n",
      "X_test----> (1216856, 105)\n",
      "y_test----> (1216856,)\n"
     ]
    }
   ],
   "source": [
    "X_train, X_test, y_train, y_test = train_test_split(X, Y,test_size=0.25,stratify=Y,random_state=1)\n",
    "print(\"X_train---->\",X_train.shape)\n",
    "print(\"y_train---->\",y_train.shape)\n",
    "print(\"X_test---->\",X_test.shape)\n",
    "print(\"y_test---->\",y_test.shape)"
   ]
  },
  {
   "cell_type": "markdown",
   "metadata": {},
   "source": [
    "## Preprocessing of data"
   ]
  },
  {
   "cell_type": "code",
   "execution_count": 15,
   "metadata": {},
   "outputs": [],
   "source": [
    "# for converting all numerical features into particular scale we use standardization\n",
    "std=StandardScaler()\n",
    "std_trained=[]"
   ]
  },
  {
   "cell_type": "code",
   "execution_count": 16,
   "metadata": {},
   "outputs": [
    {
     "name": "stderr",
     "output_type": "stream",
     "text": [
      "100%|██████████| 5/5 [00:00<00:00,  8.64it/s]\n"
     ]
    }
   ],
   "source": [
    "#preprocessing filtered ecg,r,heart_rate,resp_rate and gsr signal\n",
    "features=[\"ecg\",\"r\",\"gsr\",\"resp_rate\",\"heart_rate\"]\n",
    "for fea in tqdm(features):\n",
    "    std.fit(X_train[fea].values.reshape(-1,1))\n",
    "    X_train[fea]=std.transform(X_train[fea].values.reshape(-1,1))\n",
    "    std_trained.append(std)\n",
    "    X_test[fea]=std.transform(X_test[fea].values.reshape(-1,1))"
   ]
  },
  {
   "cell_type": "code",
   "execution_count": 10,
   "metadata": {},
   "outputs": [
    {
     "name": "stderr",
     "output_type": "stream",
     "text": [
      "100%|██████████| 20/20 [00:02<00:00,  9.52it/s]\n"
     ]
    }
   ],
   "source": [
    "# preprocessing eeg electrode data\n",
    "eeg_features=['eeg_fp1', 'eeg_f7', 'eeg_f8','eeg_t4', 'eeg_t6', 'eeg_t5', 'eeg_t3', 'eeg_fp2', 'eeg_o1', 'eeg_p3','eeg_pz', 'eeg_f3',\n",
    "              'eeg_fz', 'eeg_f4', 'eeg_c4', 'eeg_p4', 'eeg_poz','eeg_c3', 'eeg_cz', 'eeg_o2']\n",
    "for fea in tqdm(eeg_features):\n",
    "    std.fit(X_train[fea].values.reshape(-1,1))\n",
    "    X_train[fea]=std.transform(X_train[fea].values.reshape(-1,1))\n",
    "    std_trained.append(std)\n",
    "    X_test[fea]=std.transform(X_test[fea].values.reshape(-1,1))"
   ]
  },
  {
   "cell_type": "code",
   "execution_count": 11,
   "metadata": {},
   "outputs": [
    {
     "name": "stderr",
     "output_type": "stream",
     "text": [
      "100%|██████████| 18/18 [00:01<00:00,  9.63it/s]\n"
     ]
    }
   ],
   "source": [
    "# preprocessing potential difference of ectrodes\n",
    "potential_difference=[\"fp1_f7\",\"f7_t3\",\"t3_t5\",\"t5_o1\",\"p3_o1\",\"c3_p3\",\"f3_c3\",\"fp1_f3\",\"fz_cz\",\n",
    "\"cz_pz\",\"fp2_f4\",\"f4_c4\",\"c4_p4\",\"p4_o2\",\"t6_o2\",\"t4_t6\",\"f8_t4\",\"fp2_f8\"]\n",
    "for fea in tqdm(potential_difference):\n",
    "    std.fit(X_train[fea].values.reshape(-1,1))\n",
    "    X_train[fea]=std.transform(X_train[fea].values.reshape(-1,1))\n",
    "    std_trained.append(std)\n",
    "    X_test[fea]=std.transform(X_test[fea].values.reshape(-1,1))"
   ]
  },
  {
   "cell_type": "code",
   "execution_count": 12,
   "metadata": {},
   "outputs": [
    {
     "name": "stderr",
     "output_type": "stream",
     "text": [
      "100%|██████████| 20/20 [00:02<00:00,  9.42it/s]\n"
     ]
    }
   ],
   "source": [
    "# preprocessing alpha_low features\n",
    "features=[i+\"_alpha_low\" for i in eeg_features]\n",
    "for fea in tqdm(features):\n",
    "    std.fit(X_train[fea].values.reshape(-1,1))\n",
    "    X_train[fea]=std.transform(X_train[fea].values.reshape(-1,1))\n",
    "    std_trained.append(std)\n",
    "    X_test[fea]=std.transform(X_test[fea].values.reshape(-1,1))"
   ]
  },
  {
   "cell_type": "code",
   "execution_count": 13,
   "metadata": {},
   "outputs": [
    {
     "name": "stderr",
     "output_type": "stream",
     "text": [
      "100%|██████████| 20/20 [00:02<00:00,  9.37it/s]\n"
     ]
    }
   ],
   "source": [
    "# preprocessing alpha_high features\n",
    "features=[i+\"_alpha_high\" for i in eeg_features]\n",
    "for fea in tqdm(features):\n",
    "    std.fit(X_train[fea].values.reshape(-1,1))\n",
    "    X_train[fea]=std.transform(X_train[fea].values.reshape(-1,1))\n",
    "    std_trained.append(std)\n",
    "    X_test[fea]=std.transform(X_test[fea].values.reshape(-1,1))\n"
   ]
  },
  {
   "cell_type": "code",
   "execution_count": 14,
   "metadata": {},
   "outputs": [
    {
     "name": "stderr",
     "output_type": "stream",
     "text": [
      "100%|██████████| 20/20 [00:02<00:00,  9.41it/s]\n"
     ]
    }
   ],
   "source": [
    "# preprocessing theta features\n",
    "features=[i+\"_theta\" for i in eeg_features]\n",
    "for fea in tqdm(features):\n",
    "    std.fit(X_train[fea].values.reshape(-1,1))\n",
    "    X_train[fea]=std.transform(X_train[fea].values.reshape(-1,1))\n",
    "    std_trained.append(std)\n",
    "    X_test[fea]=std.transform(X_test[fea].values.reshape(-1,1))"
   ]
  },
  {
   "cell_type": "code",
   "execution_count": 15,
   "metadata": {},
   "outputs": [
    {
     "name": "stdout",
     "output_type": "stream",
     "text": [
      "103\n"
     ]
    }
   ],
   "source": [
    "print(len(std_trained))\n",
    "# storing standardization of each feature because we need these for transforming feature unseen points\n",
    "np.save(\"std\",std_trained) "
   ]
  },
  {
   "cell_type": "markdown",
   "metadata": {},
   "source": [
    "## Random Model"
   ]
  },
  {
   "cell_type": "code",
   "execution_count": 16,
   "metadata": {},
   "outputs": [
    {
     "name": "stdout",
     "output_type": "stream",
     "text": [
      "Log loss on Test Data using Random Model 1.6451996501879698\n"
     ]
    }
   ],
   "source": [
    "predicted_y = np.zeros((len(y_test),4))\n",
    "for i in range(len(y_test)):\n",
    "    rand_probs = np.random.rand(1,4)\n",
    "    predicted_y[i] = ((rand_probs/sum(sum(rand_probs)))[0])\n",
    "print(\"Log loss on Test Data using Random Model\",log_loss(y_test, predicted_y, eps=1e-15))"
   ]
  },
  {
   "cell_type": "markdown",
   "metadata": {},
   "source": [
    "## Logistic Regression"
   ]
  },
  {
   "cell_type": "code",
   "execution_count": 18,
   "metadata": {},
   "outputs": [
    {
     "name": "stdout",
     "output_type": "stream",
     "text": [
      "Fitting 3 folds for each of 10 candidates, totalling 30 fits\n"
     ]
    },
    {
     "name": "stderr",
     "output_type": "stream",
     "text": [
      "[Parallel(n_jobs=1)]: Using backend SequentialBackend with 1 concurrent workers.\n"
     ]
    },
    {
     "name": "stdout",
     "output_type": "stream",
     "text": [
      "[CV] C=0.001, penalty=l1 .............................................\n",
      "[CV] ................... C=0.001, penalty=l1, score=nan, total=   1.7s\n",
      "[CV] C=0.001, penalty=l1 .............................................\n"
     ]
    },
    {
     "name": "stderr",
     "output_type": "stream",
     "text": [
      "[Parallel(n_jobs=1)]: Done   1 out of   1 | elapsed:    1.8s remaining:    0.0s\n"
     ]
    },
    {
     "name": "stdout",
     "output_type": "stream",
     "text": [
      "[CV] ................... C=0.001, penalty=l1, score=nan, total=   1.4s\n",
      "[CV] C=0.001, penalty=l1 .............................................\n"
     ]
    },
    {
     "name": "stderr",
     "output_type": "stream",
     "text": [
      "[Parallel(n_jobs=1)]: Done   2 out of   2 | elapsed:    3.1s remaining:    0.0s\n"
     ]
    },
    {
     "name": "stdout",
     "output_type": "stream",
     "text": [
      "[CV] ................... C=0.001, penalty=l1, score=nan, total=   1.4s\n",
      "[CV] C=0.001, penalty=l2 .............................................\n",
      "[CV] ................. C=0.001, penalty=l2, score=0.603, total= 2.8min\n",
      "[CV] C=0.001, penalty=l2 .............................................\n",
      "[CV] ................. C=0.001, penalty=l2, score=0.597, total= 2.7min\n",
      "[CV] C=0.001, penalty=l2 .............................................\n",
      "[CV] ................. C=0.001, penalty=l2, score=0.603, total= 2.7min\n",
      "[CV] C=0.01, penalty=l1 ..............................................\n",
      "[CV] .................... C=0.01, penalty=l1, score=nan, total=   1.6s\n",
      "[CV] C=0.01, penalty=l1 ..............................................\n",
      "[CV] .................... C=0.01, penalty=l1, score=nan, total=   1.4s\n",
      "[CV] C=0.01, penalty=l1 ..............................................\n",
      "[CV] .................... C=0.01, penalty=l1, score=nan, total=   1.4s\n",
      "[CV] C=0.01, penalty=l2 ..............................................\n",
      "[CV] .................. C=0.01, penalty=l2, score=0.605, total= 2.7min\n",
      "[CV] C=0.01, penalty=l2 ..............................................\n",
      "[CV] .................. C=0.01, penalty=l2, score=0.594, total= 2.7min\n",
      "[CV] C=0.01, penalty=l2 ..............................................\n",
      "[CV] .................. C=0.01, penalty=l2, score=0.598, total= 2.7min\n",
      "[CV] C=0.1, penalty=l1 ...............................................\n",
      "[CV] ..................... C=0.1, penalty=l1, score=nan, total=   1.6s\n",
      "[CV] C=0.1, penalty=l1 ...............................................\n",
      "[CV] ..................... C=0.1, penalty=l1, score=nan, total=   1.4s\n",
      "[CV] C=0.1, penalty=l1 ...............................................\n",
      "[CV] ..................... C=0.1, penalty=l1, score=nan, total=   1.4s\n",
      "[CV] C=0.1, penalty=l2 ...............................................\n",
      "[CV] ................... C=0.1, penalty=l2, score=0.598, total= 2.8min\n",
      "[CV] C=0.1, penalty=l2 ...............................................\n",
      "[CV] ................... C=0.1, penalty=l2, score=0.604, total= 2.9min\n",
      "[CV] C=0.1, penalty=l2 ...............................................\n",
      "[CV] ................... C=0.1, penalty=l2, score=0.596, total= 2.7min\n",
      "[CV] C=1, penalty=l1 .................................................\n",
      "[CV] ....................... C=1, penalty=l1, score=nan, total=   1.6s\n",
      "[CV] C=1, penalty=l1 .................................................\n",
      "[CV] ....................... C=1, penalty=l1, score=nan, total=   1.4s\n",
      "[CV] C=1, penalty=l1 .................................................\n",
      "[CV] ....................... C=1, penalty=l1, score=nan, total=   1.4s\n",
      "[CV] C=1, penalty=l2 .................................................\n",
      "[CV] ..................... C=1, penalty=l2, score=0.601, total= 2.7min\n",
      "[CV] C=1, penalty=l2 .................................................\n",
      "[CV] ..................... C=1, penalty=l2, score=0.601, total= 2.7min\n",
      "[CV] C=1, penalty=l2 .................................................\n",
      "[CV] ..................... C=1, penalty=l2, score=0.591, total= 2.7min\n",
      "[CV] C=10, penalty=l1 ................................................\n",
      "[CV] ...................... C=10, penalty=l1, score=nan, total=   1.6s\n",
      "[CV] C=10, penalty=l1 ................................................\n",
      "[CV] ...................... C=10, penalty=l1, score=nan, total=   1.4s\n",
      "[CV] C=10, penalty=l1 ................................................\n",
      "[CV] ...................... C=10, penalty=l1, score=nan, total=   1.4s\n",
      "[CV] C=10, penalty=l2 ................................................\n",
      "[CV] .................... C=10, penalty=l2, score=0.600, total= 2.7min\n",
      "[CV] C=10, penalty=l2 ................................................\n",
      "[CV] .................... C=10, penalty=l2, score=0.602, total= 3.0min\n",
      "[CV] C=10, penalty=l2 ................................................\n",
      "[CV] .................... C=10, penalty=l2, score=0.601, total= 2.8min\n"
     ]
    },
    {
     "name": "stderr",
     "output_type": "stream",
     "text": [
      "[Parallel(n_jobs=1)]: Done  30 out of  30 | elapsed: 41.6min finished\n"
     ]
    },
    {
     "name": "stdout",
     "output_type": "stream",
     "text": [
      "Mean Accuracy: 0.601\n",
      "Config: {'C': 0.001, 'penalty': 'l2'}\n"
     ]
    }
   ],
   "source": [
    "LR = LogisticRegression()\n",
    "LRparam_grid = {\n",
    "    'C': [0.001, 0.01, 0.1, 1, 10],\n",
    "    'penalty': ['l1', 'l2']\n",
    "}\n",
    "LR_search = GridSearchCV(LR, param_grid=LRparam_grid, refit = True, verbose = 3, cv=3)\n",
    "\n",
    "# fitting the model for grid search \n",
    "LR_search.fit(X_train , y_train)\n",
    "LR_search.best_params_\n",
    "# summarize\n",
    "print('Mean Accuracy: %.3f' % LR_search.best_score_)\n",
    "print('Config: %s' % LR_search.best_params_)"
   ]
  },
  {
   "cell_type": "code",
   "execution_count": 17,
   "metadata": {},
   "outputs": [
    {
     "data": {
      "text/plain": [
       "LogisticRegression(C=0.001)"
      ]
     },
     "execution_count": 17,
     "metadata": {},
     "output_type": "execute_result"
    }
   ],
   "source": [
    "LR_final=LogisticRegression(penalty='l2',C=0.001)# fitinng the logistic regression using best tuned model\n",
    "LR_final.fit(X_train , y_train)"
   ]
  },
  {
   "cell_type": "code",
   "execution_count": 73,
   "metadata": {},
   "outputs": [
    {
     "name": "stdout",
     "output_type": "stream",
     "text": [
      "Train log loss = 0.9439918597246435\n",
      "Test log loss =  0.9441087852562724\n"
     ]
    }
   ],
   "source": [
    "y_train_hat=LR_final.predict_proba(X_train)# finding test and train log loss\n",
    "y_test_hat=LR_final.predict_proba(X_test)\n",
    "print(\"Train log loss =\",log_loss(y_train,y_train_hat))\n",
    "print(\"Test log loss = \",log_loss(y_test,y_test_hat))"
   ]
  },
  {
   "cell_type": "markdown",
   "metadata": {},
   "source": [
    "* Logistic regression model works better when we compared random model.so linear model works in a decent way.so we can use complex ensembles models like random forest or light gbm to reduce log loss"
   ]
  },
  {
   "cell_type": "markdown",
   "metadata": {},
   "source": [
    "## Light GBM ( Light Gradient Boosting Machine ) "
   ]
  },
  {
   "cell_type": "code",
   "execution_count": 19,
   "metadata": {},
   "outputs": [],
   "source": [
    "#https://lightgbm.readthedocs.io/en/latest/pythonapi/lightgbm.LGBMClassifier.html\n",
    "# hyper parameter tunning\n",
    "params = {\"n_estimators\":[10,20,30,50,100],          \n",
    "        \"num_leaves\" : range(1,50),          \n",
    "        \"learning_rate\" : [1e-4,0.0001,0.001,0.01,0.1],     \n",
    "        \"bagging_fraction\" : list(np.arange(0.0,1.0,0.1)),                    \n",
    "        \"colsample_bytree\" : list(np.arange(0.0,1.0,0.1)),  \n",
    "        'min_data_in_leaf':[1,10,20,50,80,100]\n",
    "          }"
   ]
  },
  {
   "cell_type": "code",
   "execution_count": 39,
   "metadata": {},
   "outputs": [],
   "source": [
    "model=lgb.LGBMClassifier() \n",
    "clf=RandomizedSearchCV(model,param_distributions=params,verbose=10)"
   ]
  },
  {
   "cell_type": "code",
   "execution_count": 40,
   "metadata": {},
   "outputs": [
    {
     "name": "stdout",
     "output_type": "stream",
     "text": [
      "Fitting 5 folds for each of 10 candidates, totalling 50 fits\n"
     ]
    },
    {
     "name": "stderr",
     "output_type": "stream",
     "text": [
      "[Parallel(n_jobs=1)]: Using backend SequentialBackend with 1 concurrent workers.\n"
     ]
    },
    {
     "name": "stdout",
     "output_type": "stream",
     "text": [
      "[CV] num_leaves=44, n_estimators=20, min_data_in_leaf=10, learning_rate=0.1, colsample_bytree=0.7000000000000001, bagging_fraction=0.4 \n",
      "[LightGBM] [Warning] min_data_in_leaf is set=10, min_child_samples=20 will be ignored. Current value: min_data_in_leaf=10\n",
      "[LightGBM] [Warning] bagging_fraction is set=0.4, subsample=1.0 will be ignored. Current value: bagging_fraction=0.4\n",
      "[CV]  num_leaves=44, n_estimators=20, min_data_in_leaf=10, learning_rate=0.1, colsample_bytree=0.7000000000000001, bagging_fraction=0.4, score=0.940, total=  50.0s\n",
      "[CV] num_leaves=44, n_estimators=20, min_data_in_leaf=10, learning_rate=0.1, colsample_bytree=0.7000000000000001, bagging_fraction=0.4 \n"
     ]
    },
    {
     "name": "stderr",
     "output_type": "stream",
     "text": [
      "[Parallel(n_jobs=1)]: Done   1 out of   1 | elapsed:   50.0s remaining:    0.0s\n"
     ]
    },
    {
     "name": "stdout",
     "output_type": "stream",
     "text": [
      "[LightGBM] [Warning] min_data_in_leaf is set=10, min_child_samples=20 will be ignored. Current value: min_data_in_leaf=10\n",
      "[LightGBM] [Warning] bagging_fraction is set=0.4, subsample=1.0 will be ignored. Current value: bagging_fraction=0.4\n",
      "[CV]  num_leaves=44, n_estimators=20, min_data_in_leaf=10, learning_rate=0.1, colsample_bytree=0.7000000000000001, bagging_fraction=0.4, score=0.938, total=  50.0s\n",
      "[CV] num_leaves=44, n_estimators=20, min_data_in_leaf=10, learning_rate=0.1, colsample_bytree=0.7000000000000001, bagging_fraction=0.4 \n"
     ]
    },
    {
     "name": "stderr",
     "output_type": "stream",
     "text": [
      "[Parallel(n_jobs=1)]: Done   2 out of   2 | elapsed:  1.7min remaining:    0.0s\n"
     ]
    },
    {
     "name": "stdout",
     "output_type": "stream",
     "text": [
      "[LightGBM] [Warning] min_data_in_leaf is set=10, min_child_samples=20 will be ignored. Current value: min_data_in_leaf=10\n",
      "[LightGBM] [Warning] bagging_fraction is set=0.4, subsample=1.0 will be ignored. Current value: bagging_fraction=0.4\n",
      "[CV]  num_leaves=44, n_estimators=20, min_data_in_leaf=10, learning_rate=0.1, colsample_bytree=0.7000000000000001, bagging_fraction=0.4, score=0.938, total=  49.7s\n",
      "[CV] num_leaves=44, n_estimators=20, min_data_in_leaf=10, learning_rate=0.1, colsample_bytree=0.7000000000000001, bagging_fraction=0.4 \n"
     ]
    },
    {
     "name": "stderr",
     "output_type": "stream",
     "text": [
      "[Parallel(n_jobs=1)]: Done   3 out of   3 | elapsed:  2.5min remaining:    0.0s\n"
     ]
    },
    {
     "name": "stdout",
     "output_type": "stream",
     "text": [
      "[LightGBM] [Warning] min_data_in_leaf is set=10, min_child_samples=20 will be ignored. Current value: min_data_in_leaf=10\n",
      "[LightGBM] [Warning] bagging_fraction is set=0.4, subsample=1.0 will be ignored. Current value: bagging_fraction=0.4\n",
      "[CV]  num_leaves=44, n_estimators=20, min_data_in_leaf=10, learning_rate=0.1, colsample_bytree=0.7000000000000001, bagging_fraction=0.4, score=0.940, total=  51.9s\n",
      "[CV] num_leaves=44, n_estimators=20, min_data_in_leaf=10, learning_rate=0.1, colsample_bytree=0.7000000000000001, bagging_fraction=0.4 \n"
     ]
    },
    {
     "name": "stderr",
     "output_type": "stream",
     "text": [
      "[Parallel(n_jobs=1)]: Done   4 out of   4 | elapsed:  3.4min remaining:    0.0s\n"
     ]
    },
    {
     "name": "stdout",
     "output_type": "stream",
     "text": [
      "[LightGBM] [Warning] min_data_in_leaf is set=10, min_child_samples=20 will be ignored. Current value: min_data_in_leaf=10\n",
      "[LightGBM] [Warning] bagging_fraction is set=0.4, subsample=1.0 will be ignored. Current value: bagging_fraction=0.4\n",
      "[CV]  num_leaves=44, n_estimators=20, min_data_in_leaf=10, learning_rate=0.1, colsample_bytree=0.7000000000000001, bagging_fraction=0.4, score=0.938, total=  52.2s\n",
      "[CV] num_leaves=28, n_estimators=50, min_data_in_leaf=50, learning_rate=0.1, colsample_bytree=0.0, bagging_fraction=0.1 \n"
     ]
    },
    {
     "name": "stderr",
     "output_type": "stream",
     "text": [
      "[Parallel(n_jobs=1)]: Done   5 out of   5 | elapsed:  4.2min remaining:    0.0s\n"
     ]
    },
    {
     "name": "stdout",
     "output_type": "stream",
     "text": [
      "[LightGBM] [Warning] min_data_in_leaf is set=50, min_child_samples=20 will be ignored. Current value: min_data_in_leaf=50\n",
      "[LightGBM] [Warning] bagging_fraction is set=0.1, subsample=1.0 will be ignored. Current value: bagging_fraction=0.1\n",
      "[CV]  num_leaves=28, n_estimators=50, min_data_in_leaf=50, learning_rate=0.1, colsample_bytree=0.0, bagging_fraction=0.1, score=nan, total=   4.6s\n",
      "[CV] num_leaves=28, n_estimators=50, min_data_in_leaf=50, learning_rate=0.1, colsample_bytree=0.0, bagging_fraction=0.1 \n"
     ]
    },
    {
     "name": "stderr",
     "output_type": "stream",
     "text": [
      "[Parallel(n_jobs=1)]: Done   6 out of   6 | elapsed:  4.3min remaining:    0.0s\n"
     ]
    },
    {
     "name": "stdout",
     "output_type": "stream",
     "text": [
      "[LightGBM] [Warning] min_data_in_leaf is set=50, min_child_samples=20 will be ignored. Current value: min_data_in_leaf=50\n",
      "[LightGBM] [Warning] bagging_fraction is set=0.1, subsample=1.0 will be ignored. Current value: bagging_fraction=0.1\n",
      "[CV]  num_leaves=28, n_estimators=50, min_data_in_leaf=50, learning_rate=0.1, colsample_bytree=0.0, bagging_fraction=0.1, score=nan, total=   4.6s\n",
      "[CV] num_leaves=28, n_estimators=50, min_data_in_leaf=50, learning_rate=0.1, colsample_bytree=0.0, bagging_fraction=0.1 \n"
     ]
    },
    {
     "name": "stderr",
     "output_type": "stream",
     "text": [
      "[Parallel(n_jobs=1)]: Done   7 out of   7 | elapsed:  4.4min remaining:    0.0s\n"
     ]
    },
    {
     "name": "stdout",
     "output_type": "stream",
     "text": [
      "[LightGBM] [Warning] min_data_in_leaf is set=50, min_child_samples=20 will be ignored. Current value: min_data_in_leaf=50\n",
      "[LightGBM] [Warning] bagging_fraction is set=0.1, subsample=1.0 will be ignored. Current value: bagging_fraction=0.1\n",
      "[CV]  num_leaves=28, n_estimators=50, min_data_in_leaf=50, learning_rate=0.1, colsample_bytree=0.0, bagging_fraction=0.1, score=nan, total=   4.5s\n",
      "[CV] num_leaves=28, n_estimators=50, min_data_in_leaf=50, learning_rate=0.1, colsample_bytree=0.0, bagging_fraction=0.1 \n"
     ]
    },
    {
     "name": "stderr",
     "output_type": "stream",
     "text": [
      "[Parallel(n_jobs=1)]: Done   8 out of   8 | elapsed:  4.5min remaining:    0.0s\n"
     ]
    },
    {
     "name": "stdout",
     "output_type": "stream",
     "text": [
      "[LightGBM] [Warning] min_data_in_leaf is set=50, min_child_samples=20 will be ignored. Current value: min_data_in_leaf=50\n",
      "[LightGBM] [Warning] bagging_fraction is set=0.1, subsample=1.0 will be ignored. Current value: bagging_fraction=0.1\n",
      "[CV]  num_leaves=28, n_estimators=50, min_data_in_leaf=50, learning_rate=0.1, colsample_bytree=0.0, bagging_fraction=0.1, score=nan, total=   4.5s\n",
      "[CV] num_leaves=28, n_estimators=50, min_data_in_leaf=50, learning_rate=0.1, colsample_bytree=0.0, bagging_fraction=0.1 \n"
     ]
    },
    {
     "name": "stderr",
     "output_type": "stream",
     "text": [
      "[Parallel(n_jobs=1)]: Done   9 out of   9 | elapsed:  4.5min remaining:    0.0s\n"
     ]
    },
    {
     "name": "stdout",
     "output_type": "stream",
     "text": [
      "[LightGBM] [Warning] min_data_in_leaf is set=50, min_child_samples=20 will be ignored. Current value: min_data_in_leaf=50\n",
      "[LightGBM] [Warning] bagging_fraction is set=0.1, subsample=1.0 will be ignored. Current value: bagging_fraction=0.1\n",
      "[CV]  num_leaves=28, n_estimators=50, min_data_in_leaf=50, learning_rate=0.1, colsample_bytree=0.0, bagging_fraction=0.1, score=nan, total=   4.6s\n",
      "[CV] num_leaves=26, n_estimators=50, min_data_in_leaf=1, learning_rate=0.01, colsample_bytree=0.9, bagging_fraction=0.8 \n",
      "[LightGBM] [Warning] min_data_in_leaf is set=1, min_child_samples=20 will be ignored. Current value: min_data_in_leaf=1\n",
      "[LightGBM] [Warning] bagging_fraction is set=0.8, subsample=1.0 will be ignored. Current value: bagging_fraction=0.8\n",
      "[CV]  num_leaves=26, n_estimators=50, min_data_in_leaf=1, learning_rate=0.01, colsample_bytree=0.9, bagging_fraction=0.8, score=0.849, total= 1.6min\n",
      "[CV] num_leaves=26, n_estimators=50, min_data_in_leaf=1, learning_rate=0.01, colsample_bytree=0.9, bagging_fraction=0.8 \n",
      "[LightGBM] [Warning] min_data_in_leaf is set=1, min_child_samples=20 will be ignored. Current value: min_data_in_leaf=1\n",
      "[LightGBM] [Warning] bagging_fraction is set=0.8, subsample=1.0 will be ignored. Current value: bagging_fraction=0.8\n",
      "[CV]  num_leaves=26, n_estimators=50, min_data_in_leaf=1, learning_rate=0.01, colsample_bytree=0.9, bagging_fraction=0.8, score=0.857, total= 1.6min\n",
      "[CV] num_leaves=26, n_estimators=50, min_data_in_leaf=1, learning_rate=0.01, colsample_bytree=0.9, bagging_fraction=0.8 \n",
      "[LightGBM] [Warning] min_data_in_leaf is set=1, min_child_samples=20 will be ignored. Current value: min_data_in_leaf=1\n",
      "[LightGBM] [Warning] bagging_fraction is set=0.8, subsample=1.0 will be ignored. Current value: bagging_fraction=0.8\n",
      "[CV]  num_leaves=26, n_estimators=50, min_data_in_leaf=1, learning_rate=0.01, colsample_bytree=0.9, bagging_fraction=0.8, score=0.857, total= 1.7min\n",
      "[CV] num_leaves=26, n_estimators=50, min_data_in_leaf=1, learning_rate=0.01, colsample_bytree=0.9, bagging_fraction=0.8 \n",
      "[LightGBM] [Warning] min_data_in_leaf is set=1, min_child_samples=20 will be ignored. Current value: min_data_in_leaf=1\n",
      "[LightGBM] [Warning] bagging_fraction is set=0.8, subsample=1.0 will be ignored. Current value: bagging_fraction=0.8\n",
      "[CV]  num_leaves=26, n_estimators=50, min_data_in_leaf=1, learning_rate=0.01, colsample_bytree=0.9, bagging_fraction=0.8, score=0.856, total= 1.6min\n",
      "[CV] num_leaves=26, n_estimators=50, min_data_in_leaf=1, learning_rate=0.01, colsample_bytree=0.9, bagging_fraction=0.8 \n",
      "[LightGBM] [Warning] min_data_in_leaf is set=1, min_child_samples=20 will be ignored. Current value: min_data_in_leaf=1\n",
      "[LightGBM] [Warning] bagging_fraction is set=0.8, subsample=1.0 will be ignored. Current value: bagging_fraction=0.8\n",
      "[CV]  num_leaves=26, n_estimators=50, min_data_in_leaf=1, learning_rate=0.01, colsample_bytree=0.9, bagging_fraction=0.8, score=0.860, total= 1.7min\n",
      "[CV] num_leaves=40, n_estimators=10, min_data_in_leaf=20, learning_rate=0.0001, colsample_bytree=0.1, bagging_fraction=0.7000000000000001 \n",
      "[LightGBM] [Warning] min_data_in_leaf is set=20, min_child_samples=20 will be ignored. Current value: min_data_in_leaf=20\n",
      "[LightGBM] [Warning] bagging_fraction is set=0.7000000000000001, subsample=1.0 will be ignored. Current value: bagging_fraction=0.7000000000000001\n",
      "[CV]  num_leaves=40, n_estimators=10, min_data_in_leaf=20, learning_rate=0.0001, colsample_bytree=0.1, bagging_fraction=0.7000000000000001, score=0.585, total=  21.5s\n",
      "[CV] num_leaves=40, n_estimators=10, min_data_in_leaf=20, learning_rate=0.0001, colsample_bytree=0.1, bagging_fraction=0.7000000000000001 \n",
      "[LightGBM] [Warning] min_data_in_leaf is set=20, min_child_samples=20 will be ignored. Current value: min_data_in_leaf=20\n",
      "[LightGBM] [Warning] bagging_fraction is set=0.7000000000000001, subsample=1.0 will be ignored. Current value: bagging_fraction=0.7000000000000001\n",
      "[CV]  num_leaves=40, n_estimators=10, min_data_in_leaf=20, learning_rate=0.0001, colsample_bytree=0.1, bagging_fraction=0.7000000000000001, score=0.585, total=  22.2s\n",
      "[CV] num_leaves=40, n_estimators=10, min_data_in_leaf=20, learning_rate=0.0001, colsample_bytree=0.1, bagging_fraction=0.7000000000000001 \n",
      "[LightGBM] [Warning] min_data_in_leaf is set=20, min_child_samples=20 will be ignored. Current value: min_data_in_leaf=20\n",
      "[LightGBM] [Warning] bagging_fraction is set=0.7000000000000001, subsample=1.0 will be ignored. Current value: bagging_fraction=0.7000000000000001\n",
      "[CV]  num_leaves=40, n_estimators=10, min_data_in_leaf=20, learning_rate=0.0001, colsample_bytree=0.1, bagging_fraction=0.7000000000000001, score=0.585, total=  21.5s\n",
      "[CV] num_leaves=40, n_estimators=10, min_data_in_leaf=20, learning_rate=0.0001, colsample_bytree=0.1, bagging_fraction=0.7000000000000001 \n",
      "[LightGBM] [Warning] min_data_in_leaf is set=20, min_child_samples=20 will be ignored. Current value: min_data_in_leaf=20\n",
      "[LightGBM] [Warning] bagging_fraction is set=0.7000000000000001, subsample=1.0 will be ignored. Current value: bagging_fraction=0.7000000000000001\n",
      "[CV]  num_leaves=40, n_estimators=10, min_data_in_leaf=20, learning_rate=0.0001, colsample_bytree=0.1, bagging_fraction=0.7000000000000001, score=0.585, total=  23.8s\n",
      "[CV] num_leaves=40, n_estimators=10, min_data_in_leaf=20, learning_rate=0.0001, colsample_bytree=0.1, bagging_fraction=0.7000000000000001 \n",
      "[LightGBM] [Warning] min_data_in_leaf is set=20, min_child_samples=20 will be ignored. Current value: min_data_in_leaf=20\n",
      "[LightGBM] [Warning] bagging_fraction is set=0.7000000000000001, subsample=1.0 will be ignored. Current value: bagging_fraction=0.7000000000000001\n",
      "[CV]  num_leaves=40, n_estimators=10, min_data_in_leaf=20, learning_rate=0.0001, colsample_bytree=0.1, bagging_fraction=0.7000000000000001, score=0.585, total=  23.4s\n",
      "[CV] num_leaves=35, n_estimators=30, min_data_in_leaf=50, learning_rate=0.01, colsample_bytree=0.0, bagging_fraction=0.5 \n",
      "[LightGBM] [Warning] min_data_in_leaf is set=50, min_child_samples=20 will be ignored. Current value: min_data_in_leaf=50\n",
      "[LightGBM] [Warning] bagging_fraction is set=0.5, subsample=1.0 will be ignored. Current value: bagging_fraction=0.5\n",
      "[CV]  num_leaves=35, n_estimators=30, min_data_in_leaf=50, learning_rate=0.01, colsample_bytree=0.0, bagging_fraction=0.5, score=nan, total=   4.7s\n",
      "[CV] num_leaves=35, n_estimators=30, min_data_in_leaf=50, learning_rate=0.01, colsample_bytree=0.0, bagging_fraction=0.5 \n",
      "[LightGBM] [Warning] min_data_in_leaf is set=50, min_child_samples=20 will be ignored. Current value: min_data_in_leaf=50\n",
      "[LightGBM] [Warning] bagging_fraction is set=0.5, subsample=1.0 will be ignored. Current value: bagging_fraction=0.5\n",
      "[CV]  num_leaves=35, n_estimators=30, min_data_in_leaf=50, learning_rate=0.01, colsample_bytree=0.0, bagging_fraction=0.5, score=nan, total=   4.6s\n",
      "[CV] num_leaves=35, n_estimators=30, min_data_in_leaf=50, learning_rate=0.01, colsample_bytree=0.0, bagging_fraction=0.5 \n",
      "[LightGBM] [Warning] min_data_in_leaf is set=50, min_child_samples=20 will be ignored. Current value: min_data_in_leaf=50\n",
      "[LightGBM] [Warning] bagging_fraction is set=0.5, subsample=1.0 will be ignored. Current value: bagging_fraction=0.5\n",
      "[CV]  num_leaves=35, n_estimators=30, min_data_in_leaf=50, learning_rate=0.01, colsample_bytree=0.0, bagging_fraction=0.5, score=nan, total=   4.6s\n",
      "[CV] num_leaves=35, n_estimators=30, min_data_in_leaf=50, learning_rate=0.01, colsample_bytree=0.0, bagging_fraction=0.5 \n",
      "[LightGBM] [Warning] min_data_in_leaf is set=50, min_child_samples=20 will be ignored. Current value: min_data_in_leaf=50\n",
      "[LightGBM] [Warning] bagging_fraction is set=0.5, subsample=1.0 will be ignored. Current value: bagging_fraction=0.5\n",
      "[CV]  num_leaves=35, n_estimators=30, min_data_in_leaf=50, learning_rate=0.01, colsample_bytree=0.0, bagging_fraction=0.5, score=nan, total=   4.6s\n",
      "[CV] num_leaves=35, n_estimators=30, min_data_in_leaf=50, learning_rate=0.01, colsample_bytree=0.0, bagging_fraction=0.5 \n",
      "[LightGBM] [Warning] min_data_in_leaf is set=50, min_child_samples=20 will be ignored. Current value: min_data_in_leaf=50\n",
      "[LightGBM] [Warning] bagging_fraction is set=0.5, subsample=1.0 will be ignored. Current value: bagging_fraction=0.5\n",
      "[CV]  num_leaves=35, n_estimators=30, min_data_in_leaf=50, learning_rate=0.01, colsample_bytree=0.0, bagging_fraction=0.5, score=nan, total=   4.6s\n",
      "[CV] num_leaves=26, n_estimators=50, min_data_in_leaf=1, learning_rate=0.0001, colsample_bytree=0.7000000000000001, bagging_fraction=0.2 \n",
      "[LightGBM] [Warning] min_data_in_leaf is set=1, min_child_samples=20 will be ignored. Current value: min_data_in_leaf=1\n",
      "[LightGBM] [Warning] bagging_fraction is set=0.2, subsample=1.0 will be ignored. Current value: bagging_fraction=0.2\n",
      "[CV]  num_leaves=26, n_estimators=50, min_data_in_leaf=1, learning_rate=0.0001, colsample_bytree=0.7000000000000001, bagging_fraction=0.2, score=0.585, total= 1.5min\n",
      "[CV] num_leaves=26, n_estimators=50, min_data_in_leaf=1, learning_rate=0.0001, colsample_bytree=0.7000000000000001, bagging_fraction=0.2 \n",
      "[LightGBM] [Warning] min_data_in_leaf is set=1, min_child_samples=20 will be ignored. Current value: min_data_in_leaf=1\n",
      "[LightGBM] [Warning] bagging_fraction is set=0.2, subsample=1.0 will be ignored. Current value: bagging_fraction=0.2\n",
      "[CV]  num_leaves=26, n_estimators=50, min_data_in_leaf=1, learning_rate=0.0001, colsample_bytree=0.7000000000000001, bagging_fraction=0.2, score=0.585, total= 1.5min\n",
      "[CV] num_leaves=26, n_estimators=50, min_data_in_leaf=1, learning_rate=0.0001, colsample_bytree=0.7000000000000001, bagging_fraction=0.2 \n",
      "[LightGBM] [Warning] min_data_in_leaf is set=1, min_child_samples=20 will be ignored. Current value: min_data_in_leaf=1\n",
      "[LightGBM] [Warning] bagging_fraction is set=0.2, subsample=1.0 will be ignored. Current value: bagging_fraction=0.2\n",
      "[CV]  num_leaves=26, n_estimators=50, min_data_in_leaf=1, learning_rate=0.0001, colsample_bytree=0.7000000000000001, bagging_fraction=0.2, score=0.585, total= 1.5min\n",
      "[CV] num_leaves=26, n_estimators=50, min_data_in_leaf=1, learning_rate=0.0001, colsample_bytree=0.7000000000000001, bagging_fraction=0.2 \n",
      "[LightGBM] [Warning] min_data_in_leaf is set=1, min_child_samples=20 will be ignored. Current value: min_data_in_leaf=1\n",
      "[LightGBM] [Warning] bagging_fraction is set=0.2, subsample=1.0 will be ignored. Current value: bagging_fraction=0.2\n",
      "[CV]  num_leaves=26, n_estimators=50, min_data_in_leaf=1, learning_rate=0.0001, colsample_bytree=0.7000000000000001, bagging_fraction=0.2, score=0.585, total= 1.5min\n",
      "[CV] num_leaves=26, n_estimators=50, min_data_in_leaf=1, learning_rate=0.0001, colsample_bytree=0.7000000000000001, bagging_fraction=0.2 \n",
      "[LightGBM] [Warning] min_data_in_leaf is set=1, min_child_samples=20 will be ignored. Current value: min_data_in_leaf=1\n",
      "[LightGBM] [Warning] bagging_fraction is set=0.2, subsample=1.0 will be ignored. Current value: bagging_fraction=0.2\n",
      "[CV]  num_leaves=26, n_estimators=50, min_data_in_leaf=1, learning_rate=0.0001, colsample_bytree=0.7000000000000001, bagging_fraction=0.2, score=0.585, total= 1.5min\n",
      "[CV] num_leaves=36, n_estimators=30, min_data_in_leaf=10, learning_rate=0.0001, colsample_bytree=0.6000000000000001, bagging_fraction=0.30000000000000004 \n",
      "[LightGBM] [Warning] min_data_in_leaf is set=10, min_child_samples=20 will be ignored. Current value: min_data_in_leaf=10\n",
      "[LightGBM] [Warning] bagging_fraction is set=0.30000000000000004, subsample=1.0 will be ignored. Current value: bagging_fraction=0.30000000000000004\n",
      "[CV]  num_leaves=36, n_estimators=30, min_data_in_leaf=10, learning_rate=0.0001, colsample_bytree=0.6000000000000001, bagging_fraction=0.30000000000000004, score=0.585, total=  59.4s\n",
      "[CV] num_leaves=36, n_estimators=30, min_data_in_leaf=10, learning_rate=0.0001, colsample_bytree=0.6000000000000001, bagging_fraction=0.30000000000000004 \n",
      "[LightGBM] [Warning] min_data_in_leaf is set=10, min_child_samples=20 will be ignored. Current value: min_data_in_leaf=10\n",
      "[LightGBM] [Warning] bagging_fraction is set=0.30000000000000004, subsample=1.0 will be ignored. Current value: bagging_fraction=0.30000000000000004\n",
      "[CV]  num_leaves=36, n_estimators=30, min_data_in_leaf=10, learning_rate=0.0001, colsample_bytree=0.6000000000000001, bagging_fraction=0.30000000000000004, score=0.585, total=  58.3s\n",
      "[CV] num_leaves=36, n_estimators=30, min_data_in_leaf=10, learning_rate=0.0001, colsample_bytree=0.6000000000000001, bagging_fraction=0.30000000000000004 \n",
      "[LightGBM] [Warning] min_data_in_leaf is set=10, min_child_samples=20 will be ignored. Current value: min_data_in_leaf=10\n",
      "[LightGBM] [Warning] bagging_fraction is set=0.30000000000000004, subsample=1.0 will be ignored. Current value: bagging_fraction=0.30000000000000004\n",
      "[CV]  num_leaves=36, n_estimators=30, min_data_in_leaf=10, learning_rate=0.0001, colsample_bytree=0.6000000000000001, bagging_fraction=0.30000000000000004, score=0.585, total= 1.0min\n",
      "[CV] num_leaves=36, n_estimators=30, min_data_in_leaf=10, learning_rate=0.0001, colsample_bytree=0.6000000000000001, bagging_fraction=0.30000000000000004 \n",
      "[LightGBM] [Warning] min_data_in_leaf is set=10, min_child_samples=20 will be ignored. Current value: min_data_in_leaf=10\n",
      "[LightGBM] [Warning] bagging_fraction is set=0.30000000000000004, subsample=1.0 will be ignored. Current value: bagging_fraction=0.30000000000000004\n",
      "[CV]  num_leaves=36, n_estimators=30, min_data_in_leaf=10, learning_rate=0.0001, colsample_bytree=0.6000000000000001, bagging_fraction=0.30000000000000004, score=0.585, total=  57.5s\n",
      "[CV] num_leaves=36, n_estimators=30, min_data_in_leaf=10, learning_rate=0.0001, colsample_bytree=0.6000000000000001, bagging_fraction=0.30000000000000004 \n",
      "[LightGBM] [Warning] min_data_in_leaf is set=10, min_child_samples=20 will be ignored. Current value: min_data_in_leaf=10\n",
      "[LightGBM] [Warning] bagging_fraction is set=0.30000000000000004, subsample=1.0 will be ignored. Current value: bagging_fraction=0.30000000000000004\n",
      "[CV]  num_leaves=36, n_estimators=30, min_data_in_leaf=10, learning_rate=0.0001, colsample_bytree=0.6000000000000001, bagging_fraction=0.30000000000000004, score=0.585, total=  57.3s\n",
      "[CV] num_leaves=14, n_estimators=100, min_data_in_leaf=10, learning_rate=0.0001, colsample_bytree=0.5, bagging_fraction=0.5 \n",
      "[LightGBM] [Warning] min_data_in_leaf is set=10, min_child_samples=20 will be ignored. Current value: min_data_in_leaf=10\n",
      "[LightGBM] [Warning] bagging_fraction is set=0.5, subsample=1.0 will be ignored. Current value: bagging_fraction=0.5\n",
      "[CV]  num_leaves=14, n_estimators=100, min_data_in_leaf=10, learning_rate=0.0001, colsample_bytree=0.5, bagging_fraction=0.5, score=0.585, total= 1.7min\n",
      "[CV] num_leaves=14, n_estimators=100, min_data_in_leaf=10, learning_rate=0.0001, colsample_bytree=0.5, bagging_fraction=0.5 \n",
      "[LightGBM] [Warning] min_data_in_leaf is set=10, min_child_samples=20 will be ignored. Current value: min_data_in_leaf=10\n",
      "[LightGBM] [Warning] bagging_fraction is set=0.5, subsample=1.0 will be ignored. Current value: bagging_fraction=0.5\n",
      "[CV]  num_leaves=14, n_estimators=100, min_data_in_leaf=10, learning_rate=0.0001, colsample_bytree=0.5, bagging_fraction=0.5, score=0.585, total= 1.7min\n",
      "[CV] num_leaves=14, n_estimators=100, min_data_in_leaf=10, learning_rate=0.0001, colsample_bytree=0.5, bagging_fraction=0.5 \n",
      "[LightGBM] [Warning] min_data_in_leaf is set=10, min_child_samples=20 will be ignored. Current value: min_data_in_leaf=10\n",
      "[LightGBM] [Warning] bagging_fraction is set=0.5, subsample=1.0 will be ignored. Current value: bagging_fraction=0.5\n",
      "[CV]  num_leaves=14, n_estimators=100, min_data_in_leaf=10, learning_rate=0.0001, colsample_bytree=0.5, bagging_fraction=0.5, score=0.585, total= 1.7min\n",
      "[CV] num_leaves=14, n_estimators=100, min_data_in_leaf=10, learning_rate=0.0001, colsample_bytree=0.5, bagging_fraction=0.5 \n",
      "[LightGBM] [Warning] min_data_in_leaf is set=10, min_child_samples=20 will be ignored. Current value: min_data_in_leaf=10\n",
      "[LightGBM] [Warning] bagging_fraction is set=0.5, subsample=1.0 will be ignored. Current value: bagging_fraction=0.5\n",
      "[CV]  num_leaves=14, n_estimators=100, min_data_in_leaf=10, learning_rate=0.0001, colsample_bytree=0.5, bagging_fraction=0.5, score=0.585, total= 1.7min\n",
      "[CV] num_leaves=14, n_estimators=100, min_data_in_leaf=10, learning_rate=0.0001, colsample_bytree=0.5, bagging_fraction=0.5 \n",
      "[LightGBM] [Warning] min_data_in_leaf is set=10, min_child_samples=20 will be ignored. Current value: min_data_in_leaf=10\n",
      "[LightGBM] [Warning] bagging_fraction is set=0.5, subsample=1.0 will be ignored. Current value: bagging_fraction=0.5\n",
      "[CV]  num_leaves=14, n_estimators=100, min_data_in_leaf=10, learning_rate=0.0001, colsample_bytree=0.5, bagging_fraction=0.5, score=0.585, total= 1.7min\n",
      "[CV] num_leaves=32, n_estimators=20, min_data_in_leaf=10, learning_rate=0.0001, colsample_bytree=0.0, bagging_fraction=0.2 \n",
      "[LightGBM] [Warning] min_data_in_leaf is set=10, min_child_samples=20 will be ignored. Current value: min_data_in_leaf=10\n",
      "[LightGBM] [Warning] bagging_fraction is set=0.2, subsample=1.0 will be ignored. Current value: bagging_fraction=0.2\n",
      "[CV]  num_leaves=32, n_estimators=20, min_data_in_leaf=10, learning_rate=0.0001, colsample_bytree=0.0, bagging_fraction=0.2, score=nan, total=   4.8s\n",
      "[CV] num_leaves=32, n_estimators=20, min_data_in_leaf=10, learning_rate=0.0001, colsample_bytree=0.0, bagging_fraction=0.2 \n",
      "[LightGBM] [Warning] min_data_in_leaf is set=10, min_child_samples=20 will be ignored. Current value: min_data_in_leaf=10\n",
      "[LightGBM] [Warning] bagging_fraction is set=0.2, subsample=1.0 will be ignored. Current value: bagging_fraction=0.2\n",
      "[CV]  num_leaves=32, n_estimators=20, min_data_in_leaf=10, learning_rate=0.0001, colsample_bytree=0.0, bagging_fraction=0.2, score=nan, total=   4.5s\n",
      "[CV] num_leaves=32, n_estimators=20, min_data_in_leaf=10, learning_rate=0.0001, colsample_bytree=0.0, bagging_fraction=0.2 \n",
      "[LightGBM] [Warning] min_data_in_leaf is set=10, min_child_samples=20 will be ignored. Current value: min_data_in_leaf=10\n",
      "[LightGBM] [Warning] bagging_fraction is set=0.2, subsample=1.0 will be ignored. Current value: bagging_fraction=0.2\n",
      "[CV]  num_leaves=32, n_estimators=20, min_data_in_leaf=10, learning_rate=0.0001, colsample_bytree=0.0, bagging_fraction=0.2, score=nan, total=   4.6s\n",
      "[CV] num_leaves=32, n_estimators=20, min_data_in_leaf=10, learning_rate=0.0001, colsample_bytree=0.0, bagging_fraction=0.2 \n",
      "[LightGBM] [Warning] min_data_in_leaf is set=10, min_child_samples=20 will be ignored. Current value: min_data_in_leaf=10\n",
      "[LightGBM] [Warning] bagging_fraction is set=0.2, subsample=1.0 will be ignored. Current value: bagging_fraction=0.2\n",
      "[CV]  num_leaves=32, n_estimators=20, min_data_in_leaf=10, learning_rate=0.0001, colsample_bytree=0.0, bagging_fraction=0.2, score=nan, total=   4.6s\n",
      "[CV] num_leaves=32, n_estimators=20, min_data_in_leaf=10, learning_rate=0.0001, colsample_bytree=0.0, bagging_fraction=0.2 \n",
      "[LightGBM] [Warning] min_data_in_leaf is set=10, min_child_samples=20 will be ignored. Current value: min_data_in_leaf=10\n",
      "[LightGBM] [Warning] bagging_fraction is set=0.2, subsample=1.0 will be ignored. Current value: bagging_fraction=0.2\n",
      "[CV]  num_leaves=32, n_estimators=20, min_data_in_leaf=10, learning_rate=0.0001, colsample_bytree=0.0, bagging_fraction=0.2, score=nan, total=   4.5s\n",
      "[CV] num_leaves=41, n_estimators=10, min_data_in_leaf=20, learning_rate=0.0001, colsample_bytree=0.8, bagging_fraction=0.2 \n",
      "[LightGBM] [Warning] min_data_in_leaf is set=20, min_child_samples=20 will be ignored. Current value: min_data_in_leaf=20\n",
      "[LightGBM] [Warning] bagging_fraction is set=0.2, subsample=1.0 will be ignored. Current value: bagging_fraction=0.2\n",
      "[CV]  num_leaves=41, n_estimators=10, min_data_in_leaf=20, learning_rate=0.0001, colsample_bytree=0.8, bagging_fraction=0.2, score=0.585, total=  37.4s\n",
      "[CV] num_leaves=41, n_estimators=10, min_data_in_leaf=20, learning_rate=0.0001, colsample_bytree=0.8, bagging_fraction=0.2 \n",
      "[LightGBM] [Warning] min_data_in_leaf is set=20, min_child_samples=20 will be ignored. Current value: min_data_in_leaf=20\n",
      "[LightGBM] [Warning] bagging_fraction is set=0.2, subsample=1.0 will be ignored. Current value: bagging_fraction=0.2\n",
      "[CV]  num_leaves=41, n_estimators=10, min_data_in_leaf=20, learning_rate=0.0001, colsample_bytree=0.8, bagging_fraction=0.2, score=0.585, total=  34.9s\n",
      "[CV] num_leaves=41, n_estimators=10, min_data_in_leaf=20, learning_rate=0.0001, colsample_bytree=0.8, bagging_fraction=0.2 \n",
      "[LightGBM] [Warning] min_data_in_leaf is set=20, min_child_samples=20 will be ignored. Current value: min_data_in_leaf=20\n",
      "[LightGBM] [Warning] bagging_fraction is set=0.2, subsample=1.0 will be ignored. Current value: bagging_fraction=0.2\n",
      "[CV]  num_leaves=41, n_estimators=10, min_data_in_leaf=20, learning_rate=0.0001, colsample_bytree=0.8, bagging_fraction=0.2, score=0.585, total=  37.3s\n",
      "[CV] num_leaves=41, n_estimators=10, min_data_in_leaf=20, learning_rate=0.0001, colsample_bytree=0.8, bagging_fraction=0.2 \n",
      "[LightGBM] [Warning] min_data_in_leaf is set=20, min_child_samples=20 will be ignored. Current value: min_data_in_leaf=20\n",
      "[LightGBM] [Warning] bagging_fraction is set=0.2, subsample=1.0 will be ignored. Current value: bagging_fraction=0.2\n",
      "[CV]  num_leaves=41, n_estimators=10, min_data_in_leaf=20, learning_rate=0.0001, colsample_bytree=0.8, bagging_fraction=0.2, score=0.585, total=  37.5s\n",
      "[CV] num_leaves=41, n_estimators=10, min_data_in_leaf=20, learning_rate=0.0001, colsample_bytree=0.8, bagging_fraction=0.2 \n",
      "[LightGBM] [Warning] min_data_in_leaf is set=20, min_child_samples=20 will be ignored. Current value: min_data_in_leaf=20\n",
      "[LightGBM] [Warning] bagging_fraction is set=0.2, subsample=1.0 will be ignored. Current value: bagging_fraction=0.2\n",
      "[CV]  num_leaves=41, n_estimators=10, min_data_in_leaf=20, learning_rate=0.0001, colsample_bytree=0.8, bagging_fraction=0.2, score=0.585, total=  34.7s\n"
     ]
    },
    {
     "name": "stderr",
     "output_type": "stream",
     "text": [
      "[Parallel(n_jobs=1)]: Done  50 out of  50 | elapsed: 39.2min finished\n"
     ]
    },
    {
     "name": "stdout",
     "output_type": "stream",
     "text": [
      "[LightGBM] [Warning] min_data_in_leaf is set=10, min_child_samples=20 will be ignored. Current value: min_data_in_leaf=10\n",
      "[LightGBM] [Warning] bagging_fraction is set=0.4, subsample=1.0 will be ignored. Current value: bagging_fraction=0.4\n"
     ]
    },
    {
     "data": {
      "text/plain": [
       "RandomizedSearchCV(estimator=LGBMClassifier(),\n",
       "                   param_distributions={'bagging_fraction': [0.0, 0.1, 0.2,\n",
       "                                                             0.30000000000000004,\n",
       "                                                             0.4, 0.5,\n",
       "                                                             0.6000000000000001,\n",
       "                                                             0.7000000000000001,\n",
       "                                                             0.8, 0.9],\n",
       "                                        'colsample_bytree': [0.0, 0.1, 0.2,\n",
       "                                                             0.30000000000000004,\n",
       "                                                             0.4, 0.5,\n",
       "                                                             0.6000000000000001,\n",
       "                                                             0.7000000000000001,\n",
       "                                                             0.8, 0.9],\n",
       "                                        'learning_rate': [0.0001, 0.0001, 0.001,\n",
       "                                                          0.01, 0.1],\n",
       "                                        'min_data_in_leaf': [1, 10, 20, 50, 80,\n",
       "                                                             100],\n",
       "                                        'n_estimators': [10, 20, 30, 50, 100],\n",
       "                                        'num_leaves': range(1, 50)},\n",
       "                   verbose=10)"
      ]
     },
     "execution_count": 40,
     "metadata": {},
     "output_type": "execute_result"
    }
   ],
   "source": [
    "clf.fit(X_train,y_train) # fitting the LGBM model"
   ]
  },
  {
   "cell_type": "code",
   "execution_count": 58,
   "metadata": {},
   "outputs": [
    {
     "name": "stdout",
     "output_type": "stream",
     "text": [
      "best_params={'num_leaves': 40,\n",
      "'n_estimators': 50,\n",
      "'min_data_in_leaf': 100,\n",
      "'learning_rate': 0.1,\n",
      " 'colsample_bytree': 0.7000000000000001,\n",
      "'bagging_fraction': 0.9}\n"
     ]
    }
   ],
   "source": [
    "random_cfl.best_params_ # best hyper parameters after tunning"
   ]
  },
  {
   "cell_type": "code",
   "execution_count": 59,
   "metadata": {},
   "outputs": [],
   "source": [
    "best_params={'num_leaves': 40,\n",
    " 'n_estimators': 50,\n",
    " 'min_data_in_leaf': 100,\n",
    " 'learning_rate': 0.1,\n",
    " 'colsample_bytree': 0.7000000000000001,\n",
    " 'bagging_fraction': 0.9}"
   ]
  },
  {
   "cell_type": "code",
   "execution_count": 60,
   "metadata": {},
   "outputs": [
    {
     "name": "stdout",
     "output_type": "stream",
     "text": [
      "[LightGBM] [Warning] min_data_in_leaf is set=100, min_child_samples=20 will be ignored. Current value: min_data_in_leaf=100\n",
      "[LightGBM] [Warning] bagging_fraction is set=0.9, subsample=1.0 will be ignored. Current value: bagging_fraction=0.9\n"
     ]
    },
    {
     "data": {
      "text/plain": [
       "LGBMClassifier(bagging_fraction=0.9, colsample_bytree=0.7000000000000001,\n",
       "               metric='multi_logloss', min_data_in_leaf=100, n_estimators=50,\n",
       "               num_classes=4, num_leaves=40, objective='multiclass')"
      ]
     },
     "execution_count": 60,
     "metadata": {},
     "output_type": "execute_result"
    }
   ],
   "source": [
    "clf=lgb.LGBMClassifier(objective=\"multiclass\",num_classes=4,metric=\"multi_logloss\",**best_params) # fitting on best hyper parameters\n",
    "clf.fit(X_train, y_train)"
   ]
  },
  {
   "cell_type": "code",
   "execution_count": 74,
   "metadata": {},
   "outputs": [],
   "source": [
    "y_train_hat=clf.predict_proba(X_train)\n",
    "y_test_hat=clf.predict_proba(X_test)"
   ]
  },
  {
   "cell_type": "code",
   "execution_count": 75,
   "metadata": {},
   "outputs": [
    {
     "name": "stdout",
     "output_type": "stream",
     "text": [
      "Train log loss = 0.11961575711616912\n",
      "Test log loss =  0.1199501069531487\n"
     ]
    }
   ],
   "source": [
    "print(\"Train log loss =\",log_loss(y_train,y_train_hat))\n",
    "print(\"Test log loss = \",log_loss(y_test,y_test_hat))"
   ]
  },
  {
   "cell_type": "code",
   "execution_count": 66,
   "metadata": {},
   "outputs": [
    {
     "data": {
      "text/plain": [
       "['final_model1.pkl']"
      ]
     },
     "execution_count": 66,
     "metadata": {},
     "output_type": "execute_result"
    }
   ],
   "source": [
    "# saving the best model on a pickle file\n",
    "joblib.dump(clf, 'final_model1.pkl')"
   ]
  },
  {
   "cell_type": "code",
   "execution_count": 76,
   "metadata": {},
   "outputs": [
    {
     "name": "stdout",
     "output_type": "stream",
     "text": [
      "TRAIN DATA CONFUSION MATRIX\n"
     ]
    },
    {
     "data": {
      "text/plain": [
       "<sklearn.metrics._plot.confusion_matrix.ConfusionMatrixDisplay at 0x7f3b3c14c7d0>"
      ]
     },
     "execution_count": 76,
     "metadata": {},
     "output_type": "execute_result"
    },
    {
     "data": {
      "image/png": "[encoded data removed]",
      "text/plain": [
       "<Figure size 432x288 with 2 Axes>"
      ]
     },
     "metadata": {
      "needs_background": "light"
     },
     "output_type": "display_data"
    }
   ],
   "source": [
    "print(\"TRAIN DATA CONFUSION MATRIX\")\n",
    "sklearn.metrics.plot_confusion_matrix(clf,X_train,y_train,normalize=\"true\")"
   ]
  },
  {
   "cell_type": "code",
   "execution_count": 77,
   "metadata": {},
   "outputs": [
    {
     "name": "stdout",
     "output_type": "stream",
     "text": [
      "TEST DATA CONFUSION MATRIX\n"
     ]
    },
    {
     "data": {
      "text/plain": [
       "<sklearn.metrics._plot.confusion_matrix.ConfusionMatrixDisplay at 0x7f3b3c137890>"
      ]
     },
     "execution_count": 77,
     "metadata": {},
     "output_type": "execute_result"
    },
    {
     "data": {
      "image/png": "[encoded data removed]",
      "text/plain": [
       "<Figure size 432x288 with 2 Axes>"
      ]
     },
     "metadata": {
      "needs_background": "light"
     },
     "output_type": "display_data"
    }
   ],
   "source": [
    "print(\"TEST DATA CONFUSION MATRIX\")\n",
    "sklearn.metrics.plot_confusion_matrix(clf,X_test,y_test,normalize=\"true\")"
   ]
  },
  {
   "cell_type": "markdown",
   "metadata": {},
   "source": [
    "* From condusion matrix we can see that diagonals elements are almost close to 1 except  class 3(DIVERTED ATTENTION)"
   ]
  },
  {
   "cell_type": "code",
   "execution_count": 85,
   "metadata": {},
   "outputs": [
    {
     "data": {
      "image/png": "[encoded data removed]",
      "text/plain": [
       "<Figure size 1440x2520 with 1 Axes>"
      ]
     },
     "metadata": {
      "needs_background": "light"
     },
     "output_type": "display_data"
    }
   ],
   "source": [
    "fig, ax = plt.subplots(figsize=(20,35))\n",
    "lgb.plot_importance(clf, height=0.8, ax=ax)\n",
    "ax.grid(False)\n",
    "plt.ylabel('Feature', size=12)\n",
    "plt.xlabel('Importance', size=12)\n",
    "plt.title(\"Importance of the Features of our LightGBM Model\", fontsize=15)\n",
    "plt.show()"
   ]
  },
  {
   "cell_type": "markdown",
   "metadata": {},
   "source": [
    "* From the feature importance plot, we can see that some of the derived features( heart rate, respiration rate, frequency bands, potential difference) have a major impact on predicting class labels."
   ]
  },
  {
   "cell_type": "code",
   "execution_count": 5,
   "metadata": {},
   "outputs": [
    {
     "name": "stdout",
     "output_type": "stream",
     "text": [
      "+-------+---------------------+----------+\n",
      "| Sl.no |        Model        | log_loss |\n",
      "+-------+---------------------+----------+\n",
      "|   1   |     Random Model    |  1.645   |\n",
      "|   2   | Logistic Regression |  0.944   |\n",
      "|   3   |      Light GBM      |  0.119   |\n",
      "+-------+---------------------+----------+\n"
     ]
    }
   ],
   "source": [
    "from prettytable import PrettyTable \n",
    "myTable = PrettyTable([\"Sl.no\", \"Model\", \"log_loss\"]) \n",
    "myTable.add_row([\"1\", \"Random Model\", \"1.645\"]) \n",
    "myTable.add_row([\"2\", \"Logistic Regression\", \"0.944\" ]) \n",
    "myTable.add_row([\"3\", \"Light GBM\", \"0.119\"]) \n",
    "print(myTable)"
   ]
  },
  {
   "cell_type": "code",
   "execution_count": null,
   "metadata": {},
   "outputs": [],
   "source": []
  }
 ],
 "metadata": {
  "kernelspec": {
   "display_name": "Python 3",
   "language": "python",
   "name": "python3"
  },
  "language_info": {
   "codemirror_mode": {
    "name": "ipython",
    "version": 3
   },
   "file_extension": ".py",
   "mimetype": "text/x-python",
   "name": "python",
   "nbconvert_exporter": "python",
   "pygments_lexer": "ipython3",
   "version": "3.6.5"
  }
 },
 "nbformat": 4,
 "nbformat_minor": 4
}
