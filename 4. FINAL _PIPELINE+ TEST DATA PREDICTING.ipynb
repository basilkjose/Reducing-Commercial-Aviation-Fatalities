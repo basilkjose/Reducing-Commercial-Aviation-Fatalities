{
 "cells": [
  {
   "cell_type": "code",
   "execution_count": 1,
   "metadata": {},
   "outputs": [],
   "source": [
    "# importing the all the necessary library for final pipeline\n",
    "import pandas as pd\n",
    "import numpy as np\n",
    "import matplotlib.pyplot as plt\n",
    "import seaborn as sns\n",
    "import sklearn\n",
    "from sklearn.model_selection import train_test_split\n",
    "from sklearn.metrics import log_loss\n",
    "from sklearn.preprocessing import StandardScaler,MinMaxScaler,Normalizer\n",
    "import tqdm\n",
    "from tqdm import tqdm\n",
    "import warnings\n",
    "warnings. filterwarnings(\"ignore\") \n",
    "from scipy import signal\n",
    "from biosppy.signals import ecg \n",
    "from biosppy.signals import eeg\n",
    "from biosppy.signals import resp\n",
    "from scipy.interpolate import interp1d \n",
    "import pickle\n",
    "import joblib\n",
    "import dask.dataframe as dd"
   ]
  },
  {
   "cell_type": "code",
   "execution_count": 3,
   "metadata": {},
   "outputs": [],
   "source": [
    "def interpolation_fn(timestamps,biosppy_ts, biosppy_values):\n",
    "    \"\"\"linear interpolation function to produce heart rate, resp rate all time steps\"\"\"\n",
    "    interpolation = interp1d(biosppy_ts,biosppy_values, kind=\"linear\", fill_value=\"extrapolate\")  \n",
    "    return interpolation(timestamps) "
   ]
  },
  {
   "cell_type": "code",
   "execution_count": 20,
   "metadata": {},
   "outputs": [],
   "source": [
    "def biosppy(df):\n",
    "    \"\"\"THIS FUNCTION WILL DERIVE ALL FEATURE THAT IS GENEARTED USING BIOSPPY MODULE\"\"\"\n",
    "  \n",
    "    bio=ecg.ecg(df[\"ecg\"],sampling_rate=256,show=False)  #heart rate from ecg\n",
    "    df[\"heart_rate\"]=interpolation_fn(df[\"time\"],bio[\"heart_rate_ts\"],bio[\"heart_rate\"])\n",
    "    \n",
    "    \n",
    "    bio=resp.resp(df[\"r\"],sampling_rate=256,show=False) #resp rate from r signal\n",
    "    df[\"resp_rate\"]=interpolation_fn(df[\"time\"],bio[\"resp_rate_ts\"],bio[\"resp_rate\"])\n",
    "    \n",
    "    bio=eeg.get_power_features(df[eeg_features],sampling_rate=256) \n",
    "    \n",
    "    alpha_low_feature=[i+\"_alpha_low\" for i in eeg_features] # alpha_low frequency band\n",
    "    for i in range(20):\n",
    "        df[alpha_low_feature[i]]=interpolation_fn(df[\"time\"],bio[\"ts\"],bio[\"alpha_low\"][:,i])\n",
    "    \n",
    "    alpha_high_feature=[i+\"_alpha_high\" for i in eeg_features]#  alpha_high frequency band\n",
    "    for i in range(20):\n",
    "        df[alpha_high_feature[i]]=interpolation_fn(df[\"time\"],bio[\"ts\"],bio[\"alpha_high\"][:,i])\n",
    "    \n",
    "    theta_feature=[i+\"_theta\" for i in eeg_features]#theta frequency band\n",
    "    for i in range(20):\n",
    "        df[theta_feature[i]]=interpolation_fn(df[\"time\"],bio[\"ts\"],bio[\"theta\"][:,i])\n",
    "\n",
    "   \n",
    "    return df"
   ]
  },
  {
   "cell_type": "code",
   "execution_count": 8,
   "metadata": {},
   "outputs": [],
   "source": [
    "def potential(df):\n",
    "    \n",
    "    \"\"\"FUNCTION TO CALCULATE POTENTIAL DIFFERENCE BETWEEN ELECTRODES\"\"\"\n",
    "    \n",
    "    df[\"fp1_f7\"]=df[\"eeg_fp1\"]-df[\"eeg_f7\"]\n",
    "    df[\"f7_t3\"]=df[\"eeg_f7\"]-df[\"eeg_t3\"]\n",
    "    df[\"t3_t5\"]=df[\"eeg_t3\"]-df[\"eeg_t5\"]\n",
    "    df[\"t5_o1\"]=df[\"eeg_t5\"]-df[\"eeg_o1\"]\n",
    "    df[\"p3_o1\"]=df[\"eeg_p3\"]-df[\"eeg_o1\"]\n",
    "    df[\"c3_p3\"]=df[\"eeg_c3\"]-df[\"eeg_p3\"]\n",
    "    df[\"f3_c3\"]=df[\"eeg_f3\"]-df[\"eeg_c3\"]\n",
    "    df[\"fp1_f3\"]=df[\"eeg_fp1\"]-df[\"eeg_f3\"]\n",
    "\n",
    "    df[\"fz_cz\"]=df[\"eeg_fz\"]-df[\"eeg_cz\"]\n",
    "    df[\"cz_pz\"]=df[\"eeg_cz\"]-df[\"eeg_pz\"]\n",
    "\n",
    "    df[\"fp2_f4\"]=df[\"eeg_fp2\"]-df[\"eeg_f4\"]\n",
    "    df[\"f4_c4\"]=df[\"eeg_f4\"]-df[\"eeg_c4\"]\n",
    "    df[\"c4_p4\"]=df[\"eeg_c4\"]-df[\"eeg_p4\"]\n",
    "    df[\"p4_o2\"]=df[\"eeg_p4\"]-df[\"eeg_o2\"]\n",
    "    df[\"t6_o2\"]=df[\"eeg_t6\"]-df[\"eeg_o2\"]\n",
    "    df[\"t4_t6\"]=df[\"eeg_t4\"]-df[\"eeg_t6\"]\n",
    "    df[\"f8_t4\"]=df[\"eeg_f8\"]-df[\"eeg_t4\"]\n",
    "    df[\"fp2_f8\"]=df[\"eeg_fp2\"]-df[\"eeg_f8\"]\n",
    "    \n",
    "    return df"
   ]
  },
  {
   "cell_type": "code",
   "execution_count": 38,
   "metadata": {},
   "outputs": [
    {
     "name": "stdout",
     "output_type": "stream",
     "text": [
      "103\n"
     ]
    }
   ],
   "source": [
    "eeg_features=['eeg_fp1', 'eeg_f7', 'eeg_f8','eeg_t4', 'eeg_t6', 'eeg_t5', 'eeg_t3', 'eeg_fp2', 'eeg_o1', 'eeg_p3','eeg_pz', 'eeg_f3',\n",
    "              'eeg_fz', 'eeg_f4', 'eeg_c4', 'eeg_p4', 'eeg_poz','eeg_c3', 'eeg_cz', 'eeg_o2']\n",
    "\n",
    "p_d=[\"fp1_f7\",\"f7_t3\",\"t3_t5\",\"t5_o1\",\"p3_o1\",\"c3_p3\",\"f3_c3\",\"fp1_f3\",\"fz_cz\",\"cz_pz\",\"fp2_f4\",\"f4_c4\",\"c4_p4\",\"p4_o2\",\"t6_o2\",\"t4_t6\",\"f8_t4\",\"fp2_f8\"]\n",
    "alpha_low_feature=[i+\"_alpha_low\" for i in eeg_features]\n",
    "alpha_high_feature=[i+\"_alpha_high\" for i in eeg_features]\n",
    "theta_feature=[i+\"_theta\" for i in eeg_features]\n",
    "\n",
    "features=[\"ecg\",\"r\",\"gsr\",\"resp_rate\",\"heart_rate\"]\n",
    "features.extend(eeg_features)\n",
    "features.extend(p_d)\n",
    "features.extend(alpha_low_feature)# storing all the features in a list\n",
    "features.extend(alpha_high_feature)\n",
    "features.extend(theta_feature)\n",
    "print(len(features))"
   ]
  },
  {
   "cell_type": "code",
   "execution_count": 10,
   "metadata": {},
   "outputs": [],
   "source": [
    "std=np.load(\"std.npy\",allow_pickle=True)# load standardization pickle file that is used in training"
   ]
  },
  {
   "cell_type": "code",
   "execution_count": 29,
   "metadata": {},
   "outputs": [],
   "source": [
    "def standardisation(X_test):\n",
    "    \"\"\"TRANSFORM TEST DATA BASED ON STANDARDIZATION OF TRAIN DATA\"\"\"\n",
    "    for i in range(len(features)):\n",
    "        std_1= std[i]\n",
    "        X_test[features[i]]=std_1.transform(X_test[features[i]].values.reshape(-1,1))\n",
    "    return X_test"
   ]
  },
  {
   "cell_type": "code",
   "execution_count": 12,
   "metadata": {},
   "outputs": [],
   "source": [
    "def final_pipeline(X_test):\n",
    "    X_test=biosppy(X_test)\n",
    "    X_test=potential(X_test)\n",
    "    X_test=standardisation(X_test)\n",
    "    \n",
    "    return X_test"
   ]
  },
  {
   "cell_type": "markdown",
   "metadata": {},
   "source": [
    "## Predicting over test data"
   ]
  },
  {
   "cell_type": "code",
   "execution_count": 13,
   "metadata": {},
   "outputs": [],
   "source": [
    "test_data_set=pd.read_csv(\"test.csv\")"
   ]
  },
  {
   "cell_type": "code",
   "execution_count": 14,
   "metadata": {},
   "outputs": [],
   "source": [
    "test_data_set.drop(['id','experiment','seat'],axis=1,inplace=True)\n",
    "test_data_set=test_data_set.fillna(0)"
   ]
  },
  {
   "cell_type": "code",
   "execution_count": 15,
   "metadata": {},
   "outputs": [
    {
     "data": {
      "text/html": [
       "<div>\n",
       "<style scoped>\n",
       "    .dataframe tbody tr th:only-of-type {\n",
       "        vertical-align: middle;\n",
       "    }\n",
       "\n",
       "    .dataframe tbody tr th {\n",
       "        vertical-align: top;\n",
       "    }\n",
       "\n",
       "    .dataframe thead th {\n",
       "        text-align: right;\n",
       "    }\n",
       "</style>\n",
       "<table border=\"1\" class=\"dataframe\">\n",
       "  <thead>\n",
       "    <tr style=\"text-align: right;\">\n",
       "      <th></th>\n",
       "      <th>crew</th>\n",
       "      <th>time</th>\n",
       "      <th>eeg_fp1</th>\n",
       "      <th>eeg_f7</th>\n",
       "      <th>eeg_f8</th>\n",
       "      <th>eeg_t4</th>\n",
       "      <th>eeg_t6</th>\n",
       "      <th>eeg_t5</th>\n",
       "      <th>eeg_t3</th>\n",
       "      <th>eeg_fp2</th>\n",
       "      <th>...</th>\n",
       "      <th>eeg_f4</th>\n",
       "      <th>eeg_c4</th>\n",
       "      <th>eeg_p4</th>\n",
       "      <th>eeg_poz</th>\n",
       "      <th>eeg_c3</th>\n",
       "      <th>eeg_cz</th>\n",
       "      <th>eeg_o2</th>\n",
       "      <th>ecg</th>\n",
       "      <th>r</th>\n",
       "      <th>gsr</th>\n",
       "    </tr>\n",
       "  </thead>\n",
       "  <tbody>\n",
       "    <tr>\n",
       "      <th>0</th>\n",
       "      <td>1</td>\n",
       "      <td>0.000000</td>\n",
       "      <td>17.899500</td>\n",
       "      <td>6.127830</td>\n",
       "      <td>0.994807</td>\n",
       "      <td>-28.206200</td>\n",
       "      <td>-47.695499</td>\n",
       "      <td>-187.080002</td>\n",
       "      <td>-33.183498</td>\n",
       "      <td>-4.220780</td>\n",
       "      <td>...</td>\n",
       "      <td>-7.044480</td>\n",
       "      <td>-14.405100</td>\n",
       "      <td>-4.03384</td>\n",
       "      <td>-0.393799</td>\n",
       "      <td>31.83810</td>\n",
       "      <td>17.075600</td>\n",
       "      <td>-8.137350</td>\n",
       "      <td>-7323.120117</td>\n",
       "      <td>643.177002</td>\n",
       "      <td>594.778992</td>\n",
       "    </tr>\n",
       "    <tr>\n",
       "      <th>1</th>\n",
       "      <td>1</td>\n",
       "      <td>0.000000</td>\n",
       "      <td>45.883202</td>\n",
       "      <td>94.749001</td>\n",
       "      <td>23.290800</td>\n",
       "      <td>1.392000</td>\n",
       "      <td>2.060940</td>\n",
       "      <td>-5.145290</td>\n",
       "      <td>6.395940</td>\n",
       "      <td>33.420101</td>\n",
       "      <td>...</td>\n",
       "      <td>19.887501</td>\n",
       "      <td>-215.179001</td>\n",
       "      <td>2.11832</td>\n",
       "      <td>7.340940</td>\n",
       "      <td>9.66785</td>\n",
       "      <td>1169.239990</td>\n",
       "      <td>-0.024414</td>\n",
       "      <td>-3335.080078</td>\n",
       "      <td>826.724976</td>\n",
       "      <td>136.235001</td>\n",
       "    </tr>\n",
       "    <tr>\n",
       "      <th>2</th>\n",
       "      <td>1</td>\n",
       "      <td>0.003906</td>\n",
       "      <td>33.120098</td>\n",
       "      <td>28.356501</td>\n",
       "      <td>-7.239220</td>\n",
       "      <td>-7.690860</td>\n",
       "      <td>-25.833799</td>\n",
       "      <td>-107.236000</td>\n",
       "      <td>12.845200</td>\n",
       "      <td>1.215280</td>\n",
       "      <td>...</td>\n",
       "      <td>-7.642560</td>\n",
       "      <td>-10.363600</td>\n",
       "      <td>10.95050</td>\n",
       "      <td>6.513360</td>\n",
       "      <td>36.01860</td>\n",
       "      <td>24.356600</td>\n",
       "      <td>0.956158</td>\n",
       "      <td>-7323.120117</td>\n",
       "      <td>643.177002</td>\n",
       "      <td>594.778992</td>\n",
       "    </tr>\n",
       "    <tr>\n",
       "      <th>3</th>\n",
       "      <td>1</td>\n",
       "      <td>0.003906</td>\n",
       "      <td>43.280102</td>\n",
       "      <td>95.887001</td>\n",
       "      <td>18.702299</td>\n",
       "      <td>-1.432890</td>\n",
       "      <td>-4.232600</td>\n",
       "      <td>-8.021180</td>\n",
       "      <td>7.427430</td>\n",
       "      <td>27.345699</td>\n",
       "      <td>...</td>\n",
       "      <td>13.826600</td>\n",
       "      <td>-214.223007</td>\n",
       "      <td>-4.91354</td>\n",
       "      <td>3.504520</td>\n",
       "      <td>3.87811</td>\n",
       "      <td>1159.400024</td>\n",
       "      <td>-0.047607</td>\n",
       "      <td>-3335.080078</td>\n",
       "      <td>826.724976</td>\n",
       "      <td>136.235001</td>\n",
       "    </tr>\n",
       "    <tr>\n",
       "      <th>4</th>\n",
       "      <td>1</td>\n",
       "      <td>0.007812</td>\n",
       "      <td>7.929110</td>\n",
       "      <td>3.460380</td>\n",
       "      <td>-10.860800</td>\n",
       "      <td>-26.366699</td>\n",
       "      <td>-25.894699</td>\n",
       "      <td>37.007900</td>\n",
       "      <td>-50.334202</td>\n",
       "      <td>-11.676400</td>\n",
       "      <td>...</td>\n",
       "      <td>2.045450</td>\n",
       "      <td>-20.788799</td>\n",
       "      <td>-3.61418</td>\n",
       "      <td>-7.539830</td>\n",
       "      <td>3.08397</td>\n",
       "      <td>13.647900</td>\n",
       "      <td>1.473720</td>\n",
       "      <td>-7323.120117</td>\n",
       "      <td>643.177002</td>\n",
       "      <td>594.778992</td>\n",
       "    </tr>\n",
       "  </tbody>\n",
       "</table>\n",
       "<p>5 rows × 25 columns</p>\n",
       "</div>"
      ],
      "text/plain": [
       "   crew      time    eeg_fp1     eeg_f7     eeg_f8     eeg_t4     eeg_t6  \\\n",
       "0     1  0.000000  17.899500   6.127830   0.994807 -28.206200 -47.695499   \n",
       "1     1  0.000000  45.883202  94.749001  23.290800   1.392000   2.060940   \n",
       "2     1  0.003906  33.120098  28.356501  -7.239220  -7.690860 -25.833799   \n",
       "3     1  0.003906  43.280102  95.887001  18.702299  -1.432890  -4.232600   \n",
       "4     1  0.007812   7.929110   3.460380 -10.860800 -26.366699 -25.894699   \n",
       "\n",
       "       eeg_t5     eeg_t3    eeg_fp2  ...     eeg_f4      eeg_c4    eeg_p4  \\\n",
       "0 -187.080002 -33.183498  -4.220780  ...  -7.044480  -14.405100  -4.03384   \n",
       "1   -5.145290   6.395940  33.420101  ...  19.887501 -215.179001   2.11832   \n",
       "2 -107.236000  12.845200   1.215280  ...  -7.642560  -10.363600  10.95050   \n",
       "3   -8.021180   7.427430  27.345699  ...  13.826600 -214.223007  -4.91354   \n",
       "4   37.007900 -50.334202 -11.676400  ...   2.045450  -20.788799  -3.61418   \n",
       "\n",
       "    eeg_poz    eeg_c3       eeg_cz    eeg_o2          ecg           r  \\\n",
       "0 -0.393799  31.83810    17.075600 -8.137350 -7323.120117  643.177002   \n",
       "1  7.340940   9.66785  1169.239990 -0.024414 -3335.080078  826.724976   \n",
       "2  6.513360  36.01860    24.356600  0.956158 -7323.120117  643.177002   \n",
       "3  3.504520   3.87811  1159.400024 -0.047607 -3335.080078  826.724976   \n",
       "4 -7.539830   3.08397    13.647900  1.473720 -7323.120117  643.177002   \n",
       "\n",
       "          gsr  \n",
       "0  594.778992  \n",
       "1  136.235001  \n",
       "2  594.778992  \n",
       "3  136.235001  \n",
       "4  594.778992  \n",
       "\n",
       "[5 rows x 25 columns]"
      ]
     },
     "execution_count": 15,
     "metadata": {},
     "output_type": "execute_result"
    }
   ],
   "source": [
    "test_data_set.head()"
   ]
  },
  {
   "cell_type": "code",
   "execution_count": 16,
   "metadata": {},
   "outputs": [],
   "source": [
    "test_data_set= final_pipeline(test_data_set)"
   ]
  },
  {
   "cell_type": "code",
   "execution_count": 41,
   "metadata": {},
   "outputs": [],
   "source": [
    "test_data_set.to_csv(\"pilot_test_after_fe\")"
   ]
  },
  {
   "cell_type": "code",
   "execution_count": 42,
   "metadata": {},
   "outputs": [],
   "source": [
    "model=joblib.load('final_model1.pkl')"
   ]
  },
  {
   "cell_type": "code",
   "execution_count": 44,
   "metadata": {},
   "outputs": [],
   "source": [
    "submission=model.predict_proba(test_data_set)"
   ]
  },
  {
   "cell_type": "code",
   "execution_count": 45,
   "metadata": {},
   "outputs": [
    {
     "data": {
      "text/plain": [
       "array([[9.93866400e-01, 7.81390417e-05, 5.89480913e-03, 1.60651512e-04],\n",
       "       [9.98167247e-01, 9.70446636e-05, 1.60037395e-03, 1.35334474e-04],\n",
       "       [9.93866400e-01, 7.81390417e-05, 5.89480913e-03, 1.60651512e-04],\n",
       "       ...,\n",
       "       [9.82776081e-01, 4.56551344e-04, 7.91598473e-03, 8.85138305e-03],\n",
       "       [9.78686650e-01, 6.36923265e-04, 1.82672777e-02, 2.40914888e-03],\n",
       "       [9.82776081e-01, 4.56551344e-04, 7.91598473e-03, 8.85138305e-03]])"
      ]
     },
     "execution_count": 45,
     "metadata": {},
     "output_type": "execute_result"
    }
   ],
   "source": [
    "submission"
   ]
  },
  {
   "cell_type": "code",
   "execution_count": 46,
   "metadata": {},
   "outputs": [],
   "source": [
    "final_sub=pd.DataFrame()\n",
    "final_sub[\"id\"]=np.arange(0,17965143)\n",
    "final_sub[\"A\"]=submission[:,0]\n",
    "final_sub[\"B\"]=submission[:,1]\n",
    "final_sub[\"C\"]=submission[:,2]\n",
    "final_sub[\"D\"]=submission[:,3]"
   ]
  },
  {
   "cell_type": "code",
   "execution_count": 50,
   "metadata": {},
   "outputs": [
    {
     "data": {
      "text/html": [
       "<div>\n",
       "<style scoped>\n",
       "    .dataframe tbody tr th:only-of-type {\n",
       "        vertical-align: middle;\n",
       "    }\n",
       "\n",
       "    .dataframe tbody tr th {\n",
       "        vertical-align: top;\n",
       "    }\n",
       "\n",
       "    .dataframe thead th {\n",
       "        text-align: right;\n",
       "    }\n",
       "</style>\n",
       "<table border=\"1\" class=\"dataframe\">\n",
       "  <thead>\n",
       "    <tr style=\"text-align: right;\">\n",
       "      <th></th>\n",
       "      <th>id</th>\n",
       "      <th>A</th>\n",
       "      <th>B</th>\n",
       "      <th>C</th>\n",
       "      <th>D</th>\n",
       "    </tr>\n",
       "  </thead>\n",
       "  <tbody>\n",
       "    <tr>\n",
       "      <th>0</th>\n",
       "      <td>0</td>\n",
       "      <td>0.993866</td>\n",
       "      <td>0.000078</td>\n",
       "      <td>0.005895</td>\n",
       "      <td>0.000161</td>\n",
       "    </tr>\n",
       "    <tr>\n",
       "      <th>1</th>\n",
       "      <td>1</td>\n",
       "      <td>0.998167</td>\n",
       "      <td>0.000097</td>\n",
       "      <td>0.001600</td>\n",
       "      <td>0.000135</td>\n",
       "    </tr>\n",
       "    <tr>\n",
       "      <th>2</th>\n",
       "      <td>2</td>\n",
       "      <td>0.993866</td>\n",
       "      <td>0.000078</td>\n",
       "      <td>0.005895</td>\n",
       "      <td>0.000161</td>\n",
       "    </tr>\n",
       "    <tr>\n",
       "      <th>3</th>\n",
       "      <td>3</td>\n",
       "      <td>0.998167</td>\n",
       "      <td>0.000097</td>\n",
       "      <td>0.001600</td>\n",
       "      <td>0.000135</td>\n",
       "    </tr>\n",
       "    <tr>\n",
       "      <th>4</th>\n",
       "      <td>4</td>\n",
       "      <td>0.993866</td>\n",
       "      <td>0.000078</td>\n",
       "      <td>0.005895</td>\n",
       "      <td>0.000161</td>\n",
       "    </tr>\n",
       "    <tr>\n",
       "      <th>5</th>\n",
       "      <td>5</td>\n",
       "      <td>0.998167</td>\n",
       "      <td>0.000097</td>\n",
       "      <td>0.001600</td>\n",
       "      <td>0.000135</td>\n",
       "    </tr>\n",
       "    <tr>\n",
       "      <th>6</th>\n",
       "      <td>6</td>\n",
       "      <td>0.993866</td>\n",
       "      <td>0.000078</td>\n",
       "      <td>0.005895</td>\n",
       "      <td>0.000161</td>\n",
       "    </tr>\n",
       "    <tr>\n",
       "      <th>7</th>\n",
       "      <td>7</td>\n",
       "      <td>0.998167</td>\n",
       "      <td>0.000097</td>\n",
       "      <td>0.001600</td>\n",
       "      <td>0.000135</td>\n",
       "    </tr>\n",
       "    <tr>\n",
       "      <th>8</th>\n",
       "      <td>8</td>\n",
       "      <td>0.993866</td>\n",
       "      <td>0.000078</td>\n",
       "      <td>0.005895</td>\n",
       "      <td>0.000161</td>\n",
       "    </tr>\n",
       "    <tr>\n",
       "      <th>9</th>\n",
       "      <td>9</td>\n",
       "      <td>0.998167</td>\n",
       "      <td>0.000097</td>\n",
       "      <td>0.001600</td>\n",
       "      <td>0.000135</td>\n",
       "    </tr>\n",
       "  </tbody>\n",
       "</table>\n",
       "</div>"
      ],
      "text/plain": [
       "   id         A         B         C         D\n",
       "0   0  0.993866  0.000078  0.005895  0.000161\n",
       "1   1  0.998167  0.000097  0.001600  0.000135\n",
       "2   2  0.993866  0.000078  0.005895  0.000161\n",
       "3   3  0.998167  0.000097  0.001600  0.000135\n",
       "4   4  0.993866  0.000078  0.005895  0.000161\n",
       "5   5  0.998167  0.000097  0.001600  0.000135\n",
       "6   6  0.993866  0.000078  0.005895  0.000161\n",
       "7   7  0.998167  0.000097  0.001600  0.000135\n",
       "8   8  0.993866  0.000078  0.005895  0.000161\n",
       "9   9  0.998167  0.000097  0.001600  0.000135"
      ]
     },
     "execution_count": 50,
     "metadata": {},
     "output_type": "execute_result"
    }
   ],
   "source": [
    "final_sub.head(10)"
   ]
  },
  {
   "cell_type": "markdown",
   "metadata": {},
   "source": [
    "The final data (\"submission.csv\") is submitted using kaggle api.For reference you check this link\n",
    "https://medium.com/@nokknocknok/make-your-kaggle-submissions-with-kaggle-official-api-f49093c04f8a"
   ]
  },
  {
   "cell_type": "code",
   "execution_count": 25,
   "metadata": {},
   "outputs": [
    {
     "data": {
      "text/html": [
       "<img src=\"https://imgur.com/pBZP6lz.jpg\"/>"
      ],
      "text/plain": [
       "<IPython.core.display.Image object>"
      ]
     },
     "execution_count": 25,
     "metadata": {},
     "output_type": "execute_result"
    }
   ],
   "source": [
    "from IPython.display import Image\n",
    "from IPython.core.display import HTML \n",
    "Image(url= \"https://imgur.com/pBZP6lz.jpg\")"
   ]
  }
 ],
 "metadata": {
  "kernelspec": {
   "display_name": "Python 3",
   "language": "python",
   "name": "python3"
  },
  "language_info": {
   "codemirror_mode": {
    "name": "ipython",
    "version": 3
   },
   "file_extension": ".py",
   "mimetype": "text/x-python",
   "name": "python",
   "nbconvert_exporter": "python",
   "pygments_lexer": "ipython3",
   "version": "3.6.5"
  }
 },
 "nbformat": 4,
 "nbformat_minor": 4
}
